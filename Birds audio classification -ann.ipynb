{
  "cells": [
    {
      "cell_type": "code",
      "execution_count": null,
      "metadata": {
        "colab": {
          "base_uri": "https://localhost:8080/"
        },
        "id": "51GtM5trtEiw",
        "outputId": "785ea54c-60ea-4e9f-8011-233686e1da51"
      },
      "outputs": [
        {
          "output_type": "stream",
          "name": "stdout",
          "text": [
            "Mounted at /content/drive\n"
          ]
        }
      ],
      "source": [
        "from google.colab import drive\n",
        "drive.mount('/content/drive')"
      ]
    },
    {
      "cell_type": "code",
      "execution_count": null,
      "metadata": {
        "colab": {
          "base_uri": "https://localhost:8080/"
        },
        "id": "iyL8e1wKtO3Z",
        "outputId": "f842b823-3b49-499c-d744-2437d385ac8b"
      },
      "outputs": [
        {
          "output_type": "stream",
          "name": "stdout",
          "text": [
            "Requirement already satisfied: librosa in /usr/local/lib/python3.10/dist-packages (0.10.1)\n",
            "Requirement already satisfied: audioread>=2.1.9 in /usr/local/lib/python3.10/dist-packages (from librosa) (3.0.1)\n",
            "Requirement already satisfied: numpy!=1.22.0,!=1.22.1,!=1.22.2,>=1.20.3 in /usr/local/lib/python3.10/dist-packages (from librosa) (1.23.5)\n",
            "Requirement already satisfied: scipy>=1.2.0 in /usr/local/lib/python3.10/dist-packages (from librosa) (1.11.3)\n",
            "Requirement already satisfied: scikit-learn>=0.20.0 in /usr/local/lib/python3.10/dist-packages (from librosa) (1.2.2)\n",
            "Requirement already satisfied: joblib>=0.14 in /usr/local/lib/python3.10/dist-packages (from librosa) (1.3.2)\n",
            "Requirement already satisfied: decorator>=4.3.0 in /usr/local/lib/python3.10/dist-packages (from librosa) (4.4.2)\n",
            "Requirement already satisfied: numba>=0.51.0 in /usr/local/lib/python3.10/dist-packages (from librosa) (0.58.1)\n",
            "Requirement already satisfied: soundfile>=0.12.1 in /usr/local/lib/python3.10/dist-packages (from librosa) (0.12.1)\n",
            "Requirement already satisfied: pooch>=1.0 in /usr/local/lib/python3.10/dist-packages (from librosa) (1.8.0)\n",
            "Requirement already satisfied: soxr>=0.3.2 in /usr/local/lib/python3.10/dist-packages (from librosa) (0.3.7)\n",
            "Requirement already satisfied: typing-extensions>=4.1.1 in /usr/local/lib/python3.10/dist-packages (from librosa) (4.5.0)\n",
            "Requirement already satisfied: lazy-loader>=0.1 in /usr/local/lib/python3.10/dist-packages (from librosa) (0.3)\n",
            "Requirement already satisfied: msgpack>=1.0 in /usr/local/lib/python3.10/dist-packages (from librosa) (1.0.7)\n",
            "Requirement already satisfied: llvmlite<0.42,>=0.41.0dev0 in /usr/local/lib/python3.10/dist-packages (from numba>=0.51.0->librosa) (0.41.1)\n",
            "Requirement already satisfied: platformdirs>=2.5.0 in /usr/local/lib/python3.10/dist-packages (from pooch>=1.0->librosa) (3.11.0)\n",
            "Requirement already satisfied: packaging>=20.0 in /usr/local/lib/python3.10/dist-packages (from pooch>=1.0->librosa) (23.2)\n",
            "Requirement already satisfied: requests>=2.19.0 in /usr/local/lib/python3.10/dist-packages (from pooch>=1.0->librosa) (2.31.0)\n",
            "Requirement already satisfied: threadpoolctl>=2.0.0 in /usr/local/lib/python3.10/dist-packages (from scikit-learn>=0.20.0->librosa) (3.2.0)\n",
            "Requirement already satisfied: cffi>=1.0 in /usr/local/lib/python3.10/dist-packages (from soundfile>=0.12.1->librosa) (1.16.0)\n",
            "Requirement already satisfied: pycparser in /usr/local/lib/python3.10/dist-packages (from cffi>=1.0->soundfile>=0.12.1->librosa) (2.21)\n",
            "Requirement already satisfied: charset-normalizer<4,>=2 in /usr/local/lib/python3.10/dist-packages (from requests>=2.19.0->pooch>=1.0->librosa) (3.3.2)\n",
            "Requirement already satisfied: idna<4,>=2.5 in /usr/local/lib/python3.10/dist-packages (from requests>=2.19.0->pooch>=1.0->librosa) (3.4)\n",
            "Requirement already satisfied: urllib3<3,>=1.21.1 in /usr/local/lib/python3.10/dist-packages (from requests>=2.19.0->pooch>=1.0->librosa) (2.0.7)\n",
            "Requirement already satisfied: certifi>=2017.4.17 in /usr/local/lib/python3.10/dist-packages (from requests>=2.19.0->pooch>=1.0->librosa) (2023.7.22)\n"
          ]
        }
      ],
      "source": [
        "!pip install librosa"
      ]
    },
    {
      "cell_type": "code",
      "execution_count": null,
      "metadata": {
        "id": "0uvS3LeZtZw8"
      },
      "outputs": [],
      "source": [
        "import matplotlib.pyplot as plt\n",
        "%matplotlib inline\n",
        "import IPython.display as ipd\n",
        "import librosa\n",
        "import librosa.display"
      ]
    },
    {
      "cell_type": "code",
      "execution_count": null,
      "metadata": {
        "id": "fcIfO2fdtjJ5"
      },
      "outputs": [],
      "source": [
        "import numpy as np\n",
        "import pandas as pd\n",
        "import matplotlib.pyplot as plt\n",
        "import librosa\n",
        "from glob import glob\n",
        "import IPython.display as ipd\n",
        "import tensorflow as tf\n",
        "from PIL import Image"
      ]
    },
    {
      "cell_type": "code",
      "execution_count": null,
      "metadata": {
        "colab": {
          "base_uri": "https://localhost:8080/",
          "height": 476
        },
        "id": "2NVmppz9tq3f",
        "outputId": "424f09a1-9ec9-41fe-f898-19873bd7abdc"
      },
      "outputs": [
        {
          "output_type": "execute_result",
          "data": {
            "text/plain": [
              "       id       genus   species subspecies           name  \\\n",
              "0  557838  Thryomanes  bewickii        NaN  Bewick's Wren   \n",
              "1  557838  Thryomanes  bewickii        NaN  Bewick's Wren   \n",
              "2  557838  Thryomanes  bewickii        NaN  Bewick's Wren   \n",
              "\n",
              "                recordist        country  \\\n",
              "0  Whitney Neufeld-Kaiser  United States   \n",
              "1  Whitney Neufeld-Kaiser  United States   \n",
              "2  Whitney Neufeld-Kaiser  United States   \n",
              "\n",
              "                                  location  latitude  longitude altitude  \\\n",
              "0  Arlington, Snohomish County, Washington   48.0708  -122.1006      100   \n",
              "1  Arlington, Snohomish County, Washington   48.0708  -122.1006      100   \n",
              "2  Arlington, Snohomish County, Washington   48.0708  -122.1006      100   \n",
              "\n",
              "                   sound_type                   source_url  \\\n",
              "0  adult, sex uncertain, song  //www.xeno-canto.org/557838   \n",
              "1  adult, sex uncertain, song  //www.xeno-canto.org/557838   \n",
              "2  adult, sex uncertain, song  //www.xeno-canto.org/557838   \n",
              "\n",
              "                                        license   time        date  \\\n",
              "0  //creativecommons.org/licenses/by-nc-sa/4.0/  11:51  2020-03-14   \n",
              "1  //creativecommons.org/licenses/by-nc-sa/4.0/  11:51  2020-03-14   \n",
              "2  //creativecommons.org/licenses/by-nc-sa/4.0/  11:51  2020-03-14   \n",
              "\n",
              "                                             remarks      filename  \n",
              "0  Recorded with Voice Record Pro on iPhone7, nor...  557838-0.wav  \n",
              "1  Recorded with Voice Record Pro on iPhone7, nor...  557838-1.wav  \n",
              "2  Recorded with Voice Record Pro on iPhone7, nor...  557838-4.wav  "
            ],
            "text/html": [
              "\n",
              "  <div id=\"df-7762226e-e175-4bf7-ae13-8f484514e86b\" class=\"colab-df-container\">\n",
              "    <div>\n",
              "<style scoped>\n",
              "    .dataframe tbody tr th:only-of-type {\n",
              "        vertical-align: middle;\n",
              "    }\n",
              "\n",
              "    .dataframe tbody tr th {\n",
              "        vertical-align: top;\n",
              "    }\n",
              "\n",
              "    .dataframe thead th {\n",
              "        text-align: right;\n",
              "    }\n",
              "</style>\n",
              "<table border=\"1\" class=\"dataframe\">\n",
              "  <thead>\n",
              "    <tr style=\"text-align: right;\">\n",
              "      <th></th>\n",
              "      <th>id</th>\n",
              "      <th>genus</th>\n",
              "      <th>species</th>\n",
              "      <th>subspecies</th>\n",
              "      <th>name</th>\n",
              "      <th>recordist</th>\n",
              "      <th>country</th>\n",
              "      <th>location</th>\n",
              "      <th>latitude</th>\n",
              "      <th>longitude</th>\n",
              "      <th>altitude</th>\n",
              "      <th>sound_type</th>\n",
              "      <th>source_url</th>\n",
              "      <th>license</th>\n",
              "      <th>time</th>\n",
              "      <th>date</th>\n",
              "      <th>remarks</th>\n",
              "      <th>filename</th>\n",
              "    </tr>\n",
              "  </thead>\n",
              "  <tbody>\n",
              "    <tr>\n",
              "      <th>0</th>\n",
              "      <td>557838</td>\n",
              "      <td>Thryomanes</td>\n",
              "      <td>bewickii</td>\n",
              "      <td>NaN</td>\n",
              "      <td>Bewick's Wren</td>\n",
              "      <td>Whitney Neufeld-Kaiser</td>\n",
              "      <td>United States</td>\n",
              "      <td>Arlington, Snohomish County, Washington</td>\n",
              "      <td>48.0708</td>\n",
              "      <td>-122.1006</td>\n",
              "      <td>100</td>\n",
              "      <td>adult, sex uncertain, song</td>\n",
              "      <td>//www.xeno-canto.org/557838</td>\n",
              "      <td>//creativecommons.org/licenses/by-nc-sa/4.0/</td>\n",
              "      <td>11:51</td>\n",
              "      <td>2020-03-14</td>\n",
              "      <td>Recorded with Voice Record Pro on iPhone7, nor...</td>\n",
              "      <td>557838-0.wav</td>\n",
              "    </tr>\n",
              "    <tr>\n",
              "      <th>1</th>\n",
              "      <td>557838</td>\n",
              "      <td>Thryomanes</td>\n",
              "      <td>bewickii</td>\n",
              "      <td>NaN</td>\n",
              "      <td>Bewick's Wren</td>\n",
              "      <td>Whitney Neufeld-Kaiser</td>\n",
              "      <td>United States</td>\n",
              "      <td>Arlington, Snohomish County, Washington</td>\n",
              "      <td>48.0708</td>\n",
              "      <td>-122.1006</td>\n",
              "      <td>100</td>\n",
              "      <td>adult, sex uncertain, song</td>\n",
              "      <td>//www.xeno-canto.org/557838</td>\n",
              "      <td>//creativecommons.org/licenses/by-nc-sa/4.0/</td>\n",
              "      <td>11:51</td>\n",
              "      <td>2020-03-14</td>\n",
              "      <td>Recorded with Voice Record Pro on iPhone7, nor...</td>\n",
              "      <td>557838-1.wav</td>\n",
              "    </tr>\n",
              "    <tr>\n",
              "      <th>2</th>\n",
              "      <td>557838</td>\n",
              "      <td>Thryomanes</td>\n",
              "      <td>bewickii</td>\n",
              "      <td>NaN</td>\n",
              "      <td>Bewick's Wren</td>\n",
              "      <td>Whitney Neufeld-Kaiser</td>\n",
              "      <td>United States</td>\n",
              "      <td>Arlington, Snohomish County, Washington</td>\n",
              "      <td>48.0708</td>\n",
              "      <td>-122.1006</td>\n",
              "      <td>100</td>\n",
              "      <td>adult, sex uncertain, song</td>\n",
              "      <td>//www.xeno-canto.org/557838</td>\n",
              "      <td>//creativecommons.org/licenses/by-nc-sa/4.0/</td>\n",
              "      <td>11:51</td>\n",
              "      <td>2020-03-14</td>\n",
              "      <td>Recorded with Voice Record Pro on iPhone7, nor...</td>\n",
              "      <td>557838-4.wav</td>\n",
              "    </tr>\n",
              "  </tbody>\n",
              "</table>\n",
              "</div>\n",
              "    <div class=\"colab-df-buttons\">\n",
              "\n",
              "  <div class=\"colab-df-container\">\n",
              "    <button class=\"colab-df-convert\" onclick=\"convertToInteractive('df-7762226e-e175-4bf7-ae13-8f484514e86b')\"\n",
              "            title=\"Convert this dataframe to an interactive table.\"\n",
              "            style=\"display:none;\">\n",
              "\n",
              "  <svg xmlns=\"http://www.w3.org/2000/svg\" height=\"24px\" viewBox=\"0 -960 960 960\">\n",
              "    <path d=\"M120-120v-720h720v720H120Zm60-500h600v-160H180v160Zm220 220h160v-160H400v160Zm0 220h160v-160H400v160ZM180-400h160v-160H180v160Zm440 0h160v-160H620v160ZM180-180h160v-160H180v160Zm440 0h160v-160H620v160Z\"/>\n",
              "  </svg>\n",
              "    </button>\n",
              "\n",
              "  <style>\n",
              "    .colab-df-container {\n",
              "      display:flex;\n",
              "      gap: 12px;\n",
              "    }\n",
              "\n",
              "    .colab-df-convert {\n",
              "      background-color: #E8F0FE;\n",
              "      border: none;\n",
              "      border-radius: 50%;\n",
              "      cursor: pointer;\n",
              "      display: none;\n",
              "      fill: #1967D2;\n",
              "      height: 32px;\n",
              "      padding: 0 0 0 0;\n",
              "      width: 32px;\n",
              "    }\n",
              "\n",
              "    .colab-df-convert:hover {\n",
              "      background-color: #E2EBFA;\n",
              "      box-shadow: 0px 1px 2px rgba(60, 64, 67, 0.3), 0px 1px 3px 1px rgba(60, 64, 67, 0.15);\n",
              "      fill: #174EA6;\n",
              "    }\n",
              "\n",
              "    .colab-df-buttons div {\n",
              "      margin-bottom: 4px;\n",
              "    }\n",
              "\n",
              "    [theme=dark] .colab-df-convert {\n",
              "      background-color: #3B4455;\n",
              "      fill: #D2E3FC;\n",
              "    }\n",
              "\n",
              "    [theme=dark] .colab-df-convert:hover {\n",
              "      background-color: #434B5C;\n",
              "      box-shadow: 0px 1px 3px 1px rgba(0, 0, 0, 0.15);\n",
              "      filter: drop-shadow(0px 1px 2px rgba(0, 0, 0, 0.3));\n",
              "      fill: #FFFFFF;\n",
              "    }\n",
              "  </style>\n",
              "\n",
              "    <script>\n",
              "      const buttonEl =\n",
              "        document.querySelector('#df-7762226e-e175-4bf7-ae13-8f484514e86b button.colab-df-convert');\n",
              "      buttonEl.style.display =\n",
              "        google.colab.kernel.accessAllowed ? 'block' : 'none';\n",
              "\n",
              "      async function convertToInteractive(key) {\n",
              "        const element = document.querySelector('#df-7762226e-e175-4bf7-ae13-8f484514e86b');\n",
              "        const dataTable =\n",
              "          await google.colab.kernel.invokeFunction('convertToInteractive',\n",
              "                                                    [key], {});\n",
              "        if (!dataTable) return;\n",
              "\n",
              "        const docLinkHtml = 'Like what you see? Visit the ' +\n",
              "          '<a target=\"_blank\" href=https://colab.research.google.com/notebooks/data_table.ipynb>data table notebook</a>'\n",
              "          + ' to learn more about interactive tables.';\n",
              "        element.innerHTML = '';\n",
              "        dataTable['output_type'] = 'display_data';\n",
              "        await google.colab.output.renderOutput(dataTable, element);\n",
              "        const docLink = document.createElement('div');\n",
              "        docLink.innerHTML = docLinkHtml;\n",
              "        element.appendChild(docLink);\n",
              "      }\n",
              "    </script>\n",
              "  </div>\n",
              "\n",
              "\n",
              "<div id=\"df-4e769fa9-895e-4a87-aa2f-efb9a123e411\">\n",
              "  <button class=\"colab-df-quickchart\" onclick=\"quickchart('df-4e769fa9-895e-4a87-aa2f-efb9a123e411')\"\n",
              "            title=\"Suggest charts\"\n",
              "            style=\"display:none;\">\n",
              "\n",
              "<svg xmlns=\"http://www.w3.org/2000/svg\" height=\"24px\"viewBox=\"0 0 24 24\"\n",
              "     width=\"24px\">\n",
              "    <g>\n",
              "        <path d=\"M19 3H5c-1.1 0-2 .9-2 2v14c0 1.1.9 2 2 2h14c1.1 0 2-.9 2-2V5c0-1.1-.9-2-2-2zM9 17H7v-7h2v7zm4 0h-2V7h2v10zm4 0h-2v-4h2v4z\"/>\n",
              "    </g>\n",
              "</svg>\n",
              "  </button>\n",
              "\n",
              "<style>\n",
              "  .colab-df-quickchart {\n",
              "      --bg-color: #E8F0FE;\n",
              "      --fill-color: #1967D2;\n",
              "      --hover-bg-color: #E2EBFA;\n",
              "      --hover-fill-color: #174EA6;\n",
              "      --disabled-fill-color: #AAA;\n",
              "      --disabled-bg-color: #DDD;\n",
              "  }\n",
              "\n",
              "  [theme=dark] .colab-df-quickchart {\n",
              "      --bg-color: #3B4455;\n",
              "      --fill-color: #D2E3FC;\n",
              "      --hover-bg-color: #434B5C;\n",
              "      --hover-fill-color: #FFFFFF;\n",
              "      --disabled-bg-color: #3B4455;\n",
              "      --disabled-fill-color: #666;\n",
              "  }\n",
              "\n",
              "  .colab-df-quickchart {\n",
              "    background-color: var(--bg-color);\n",
              "    border: none;\n",
              "    border-radius: 50%;\n",
              "    cursor: pointer;\n",
              "    display: none;\n",
              "    fill: var(--fill-color);\n",
              "    height: 32px;\n",
              "    padding: 0;\n",
              "    width: 32px;\n",
              "  }\n",
              "\n",
              "  .colab-df-quickchart:hover {\n",
              "    background-color: var(--hover-bg-color);\n",
              "    box-shadow: 0 1px 2px rgba(60, 64, 67, 0.3), 0 1px 3px 1px rgba(60, 64, 67, 0.15);\n",
              "    fill: var(--button-hover-fill-color);\n",
              "  }\n",
              "\n",
              "  .colab-df-quickchart-complete:disabled,\n",
              "  .colab-df-quickchart-complete:disabled:hover {\n",
              "    background-color: var(--disabled-bg-color);\n",
              "    fill: var(--disabled-fill-color);\n",
              "    box-shadow: none;\n",
              "  }\n",
              "\n",
              "  .colab-df-spinner {\n",
              "    border: 2px solid var(--fill-color);\n",
              "    border-color: transparent;\n",
              "    border-bottom-color: var(--fill-color);\n",
              "    animation:\n",
              "      spin 1s steps(1) infinite;\n",
              "  }\n",
              "\n",
              "  @keyframes spin {\n",
              "    0% {\n",
              "      border-color: transparent;\n",
              "      border-bottom-color: var(--fill-color);\n",
              "      border-left-color: var(--fill-color);\n",
              "    }\n",
              "    20% {\n",
              "      border-color: transparent;\n",
              "      border-left-color: var(--fill-color);\n",
              "      border-top-color: var(--fill-color);\n",
              "    }\n",
              "    30% {\n",
              "      border-color: transparent;\n",
              "      border-left-color: var(--fill-color);\n",
              "      border-top-color: var(--fill-color);\n",
              "      border-right-color: var(--fill-color);\n",
              "    }\n",
              "    40% {\n",
              "      border-color: transparent;\n",
              "      border-right-color: var(--fill-color);\n",
              "      border-top-color: var(--fill-color);\n",
              "    }\n",
              "    60% {\n",
              "      border-color: transparent;\n",
              "      border-right-color: var(--fill-color);\n",
              "    }\n",
              "    80% {\n",
              "      border-color: transparent;\n",
              "      border-right-color: var(--fill-color);\n",
              "      border-bottom-color: var(--fill-color);\n",
              "    }\n",
              "    90% {\n",
              "      border-color: transparent;\n",
              "      border-bottom-color: var(--fill-color);\n",
              "    }\n",
              "  }\n",
              "</style>\n",
              "\n",
              "  <script>\n",
              "    async function quickchart(key) {\n",
              "      const quickchartButtonEl =\n",
              "        document.querySelector('#' + key + ' button');\n",
              "      quickchartButtonEl.disabled = true;  // To prevent multiple clicks.\n",
              "      quickchartButtonEl.classList.add('colab-df-spinner');\n",
              "      try {\n",
              "        const charts = await google.colab.kernel.invokeFunction(\n",
              "            'suggestCharts', [key], {});\n",
              "      } catch (error) {\n",
              "        console.error('Error during call to suggestCharts:', error);\n",
              "      }\n",
              "      quickchartButtonEl.classList.remove('colab-df-spinner');\n",
              "      quickchartButtonEl.classList.add('colab-df-quickchart-complete');\n",
              "    }\n",
              "    (() => {\n",
              "      let quickchartButtonEl =\n",
              "        document.querySelector('#df-4e769fa9-895e-4a87-aa2f-efb9a123e411 button');\n",
              "      quickchartButtonEl.style.display =\n",
              "        google.colab.kernel.accessAllowed ? 'block' : 'none';\n",
              "    })();\n",
              "  </script>\n",
              "</div>\n",
              "    </div>\n",
              "  </div>\n"
            ]
          },
          "metadata": {},
          "execution_count": 6
        }
      ],
      "source": [
        "df = pd.read_csv(\"/content/drive/MyDrive/Colab Notebooks/birds/bird_songs_metadata.csv\")\n",
        "df.head(3)"
      ]
    },
    {
      "cell_type": "code",
      "execution_count": null,
      "metadata": {
        "colab": {
          "base_uri": "https://localhost:8080/"
        },
        "id": "kDWwuSw0ttEq",
        "outputId": "8100131a-4e39-4991-b8ac-4528df9c9d38"
      },
      "outputs": [
        {
          "output_type": "execute_result",
          "data": {
            "text/plain": [
              "array([\"Bewick's Wren\", 'Northern Mockingbird', 'American Robin',\n",
              "       'Song Sparrow', 'Northern Cardinal'], dtype=object)"
            ]
          },
          "metadata": {},
          "execution_count": 7
        }
      ],
      "source": [
        "class_names = df[\"name\"].unique()\n",
        "class_names"
      ]
    },
    {
      "cell_type": "code",
      "execution_count": null,
      "metadata": {
        "colab": {
          "base_uri": "https://localhost:8080/"
        },
        "id": "oMwXzIxiuQg1",
        "outputId": "2f2e5770-c4e9-4aa3-b33a-ccebb5ea60b5"
      },
      "outputs": [
        {
          "output_type": "execute_result",
          "data": {
            "text/plain": [
              "Song Sparrow            1256\n",
              "Northern Mockingbird    1182\n",
              "Northern Cardinal       1074\n",
              "American Robin          1017\n",
              "Bewick's Wren            893\n",
              "Name: name, dtype: int64"
            ]
          },
          "metadata": {},
          "execution_count": 8
        }
      ],
      "source": [
        "df[\"name\"].value_counts()"
      ]
    },
    {
      "cell_type": "code",
      "execution_count": null,
      "metadata": {
        "colab": {
          "base_uri": "https://localhost:8080/",
          "height": 693
        },
        "id": "kGX7RiAEuWok",
        "outputId": "91d1df8e-1b4d-4247-b464-b073f0f33ac6"
      },
      "outputs": [
        {
          "output_type": "execute_result",
          "data": {
            "text/plain": [
              "<BarContainer object of 5 artists>"
            ]
          },
          "metadata": {},
          "execution_count": 9
        },
        {
          "output_type": "display_data",
          "data": {
            "text/plain": [
              "<Figure size 1200x800 with 1 Axes>"
            ],
            "image/png": "[encoded data removed]"
          },
          "metadata": {}
        }
      ],
      "source": [
        "fig, ax = plt.subplots(figsize=(12, 8))\n",
        "ax.bar(df[\"name\"].unique(), df[\"name\"].value_counts())"
      ]
    },
    {
      "cell_type": "code",
      "execution_count": null,
      "metadata": {
        "id": "wrO9jf_yuXRb"
      },
      "outputs": [],
      "source": [
        "path_to_wav = \"/content/drive/MyDrive/Colab Notebooks/birds/wavfiles\"\n",
        "datafiles = glob(path_to_wav + \"*\")"
      ]
    },
    {
      "cell_type": "code",
      "execution_count": null,
      "metadata": {
        "id": "eMATY726uZqe"
      },
      "outputs": [],
      "source": [
        "def create_mel_spectogram(audio_file, name):\n",
        "    y, sr = librosa.load(path_to_wav + audio_file)\n",
        "    mel_spec = librosa.feature.melspectrogram(y=y, sr=sr)\n",
        "    mel_spec = librosa.power_to_db(mel_spec, ref=np.max)\n",
        "\n",
        "    fig, ax = plt.subplots(figsize=(15, 5))\n",
        "\n",
        "    ax.set_title(\"Mel Spec\")\n",
        "    plt.suptitle(name)\n",
        "    librosa.display.specshow(mel_spec, x_axis='time', y_axis='log', ax=ax)\n",
        "    return ipd.Audio(path_to_wav + audio_file, rate=sr)"
      ]
    },
    {
      "cell_type": "code",
      "execution_count": null,
      "metadata": {
        "id": "zoTyoS6iunHy"
      },
      "outputs": [],
      "source": [
        "def process_audio(audio_file):\n",
        "    y, sr = librosa.load(audio_file)\n",
        "    mel_spec = librosa.feature.mfcc(y=y, sr=sr,n_mfcc=40)\n",
        "    mel_spec_scaled=np.mean(mel_spec.T,axis=0)\n",
        "    return mel_spec_scaled"
      ]
    },
    {
      "cell_type": "code",
      "execution_count": null,
      "metadata": {
        "id": "RKViy6qSuv-c"
      },
      "outputs": [],
      "source": [
        "df_train = pd.DataFrame({\"name\":df.loc[:, \"name\"], \"audiopath\": path_to_wav + \"/\"+df.loc[:, \"filename\"]})\n",
        "df_train[\"mel_spec\"] = df_train[\"audiopath\"].apply(process_audio)\n",
        "df_train[\"class\"] = df_train[\"name\"].factorize()[0]"
      ]
    },
    {
      "cell_type": "code",
      "execution_count": null,
      "metadata": {
        "colab": {
          "base_uri": "https://localhost:8080/",
          "height": 363
        },
        "id": "5fgAluLBxWI6",
        "outputId": "2d38efa3-c248-4926-b32d-d654fc28d12d"
      },
      "outputs": [
        {
          "output_type": "execute_result",
          "data": {
            "text/plain": [
              "            name                                          audiopath  \\\n",
              "0  Bewick's Wren  /content/drive/MyDrive/Colab Notebooks/birds/w...   \n",
              "1  Bewick's Wren  /content/drive/MyDrive/Colab Notebooks/birds/w...   \n",
              "2  Bewick's Wren  /content/drive/MyDrive/Colab Notebooks/birds/w...   \n",
              "3  Bewick's Wren  /content/drive/MyDrive/Colab Notebooks/birds/w...   \n",
              "4  Bewick's Wren  /content/drive/MyDrive/Colab Notebooks/birds/w...   \n",
              "5  Bewick's Wren  /content/drive/MyDrive/Colab Notebooks/birds/w...   \n",
              "6  Bewick's Wren  /content/drive/MyDrive/Colab Notebooks/birds/w...   \n",
              "7  Bewick's Wren  /content/drive/MyDrive/Colab Notebooks/birds/w...   \n",
              "8  Bewick's Wren  /content/drive/MyDrive/Colab Notebooks/birds/w...   \n",
              "9  Bewick's Wren  /content/drive/MyDrive/Colab Notebooks/birds/w...   \n",
              "\n",
              "                                            mel_spec  class  \n",
              "0  [-132.85225, 81.1399, 17.018223, 54.974297, -1...      0  \n",
              "1  [-147.74393, 99.42544, 20.885643, 44.118813, 1...      0  \n",
              "2  [-92.42778, 84.10635, 17.362778, 53.86046, -8....      0  \n",
              "3  [-93.07557, 81.17431, 16.225544, 52.08842, -8....      0  \n",
              "4  [-107.95914, 92.416, 17.773256, 43.13245, -1.8...      0  \n",
              "5  [-141.21455, 72.80629, 12.670303, 56.663185, -...      0  \n",
              "6  [-159.82341, 86.14374, 14.684344, 41.627968, -...      0  \n",
              "7  [-125.60996, 61.700966, 8.613693, 56.77733, -1...      0  \n",
              "8  [-127.9895, 67.526306, 6.4566174, 55.534534, -...      0  \n",
              "9  [-144.72055, 81.81318, 9.465525, 40.918465, -1...      0  "
            ],
            "text/html": [
              "\n",
              "  <div id=\"df-5bd5b54e-7353-4551-ac01-9436a682ac9e\" class=\"colab-df-container\">\n",
              "    <div>\n",
              "<style scoped>\n",
              "    .dataframe tbody tr th:only-of-type {\n",
              "        vertical-align: middle;\n",
              "    }\n",
              "\n",
              "    .dataframe tbody tr th {\n",
              "        vertical-align: top;\n",
              "    }\n",
              "\n",
              "    .dataframe thead th {\n",
              "        text-align: right;\n",
              "    }\n",
              "</style>\n",
              "<table border=\"1\" class=\"dataframe\">\n",
              "  <thead>\n",
              "    <tr style=\"text-align: right;\">\n",
              "      <th></th>\n",
              "      <th>name</th>\n",
              "      <th>audiopath</th>\n",
              "      <th>mel_spec</th>\n",
              "      <th>class</th>\n",
              "    </tr>\n",
              "  </thead>\n",
              "  <tbody>\n",
              "    <tr>\n",
              "      <th>0</th>\n",
              "      <td>Bewick's Wren</td>\n",
              "      <td>/content/drive/MyDrive/Colab Notebooks/birds/w...</td>\n",
              "      <td>[-132.85225, 81.1399, 17.018223, 54.974297, -1...</td>\n",
              "      <td>0</td>\n",
              "    </tr>\n",
              "    <tr>\n",
              "      <th>1</th>\n",
              "      <td>Bewick's Wren</td>\n",
              "      <td>/content/drive/MyDrive/Colab Notebooks/birds/w...</td>\n",
              "      <td>[-147.74393, 99.42544, 20.885643, 44.118813, 1...</td>\n",
              "      <td>0</td>\n",
              "    </tr>\n",
              "    <tr>\n",
              "      <th>2</th>\n",
              "      <td>Bewick's Wren</td>\n",
              "      <td>/content/drive/MyDrive/Colab Notebooks/birds/w...</td>\n",
              "      <td>[-92.42778, 84.10635, 17.362778, 53.86046, -8....</td>\n",
              "      <td>0</td>\n",
              "    </tr>\n",
              "    <tr>\n",
              "      <th>3</th>\n",
              "      <td>Bewick's Wren</td>\n",
              "      <td>/content/drive/MyDrive/Colab Notebooks/birds/w...</td>\n",
              "      <td>[-93.07557, 81.17431, 16.225544, 52.08842, -8....</td>\n",
              "      <td>0</td>\n",
              "    </tr>\n",
              "    <tr>\n",
              "      <th>4</th>\n",
              "      <td>Bewick's Wren</td>\n",
              "      <td>/content/drive/MyDrive/Colab Notebooks/birds/w...</td>\n",
              "      <td>[-107.95914, 92.416, 17.773256, 43.13245, -1.8...</td>\n",
              "      <td>0</td>\n",
              "    </tr>\n",
              "    <tr>\n",
              "      <th>5</th>\n",
              "      <td>Bewick's Wren</td>\n",
              "      <td>/content/drive/MyDrive/Colab Notebooks/birds/w...</td>\n",
              "      <td>[-141.21455, 72.80629, 12.670303, 56.663185, -...</td>\n",
              "      <td>0</td>\n",
              "    </tr>\n",
              "    <tr>\n",
              "      <th>6</th>\n",
              "      <td>Bewick's Wren</td>\n",
              "      <td>/content/drive/MyDrive/Colab Notebooks/birds/w...</td>\n",
              "      <td>[-159.82341, 86.14374, 14.684344, 41.627968, -...</td>\n",
              "      <td>0</td>\n",
              "    </tr>\n",
              "    <tr>\n",
              "      <th>7</th>\n",
              "      <td>Bewick's Wren</td>\n",
              "      <td>/content/drive/MyDrive/Colab Notebooks/birds/w...</td>\n",
              "      <td>[-125.60996, 61.700966, 8.613693, 56.77733, -1...</td>\n",
              "      <td>0</td>\n",
              "    </tr>\n",
              "    <tr>\n",
              "      <th>8</th>\n",
              "      <td>Bewick's Wren</td>\n",
              "      <td>/content/drive/MyDrive/Colab Notebooks/birds/w...</td>\n",
              "      <td>[-127.9895, 67.526306, 6.4566174, 55.534534, -...</td>\n",
              "      <td>0</td>\n",
              "    </tr>\n",
              "    <tr>\n",
              "      <th>9</th>\n",
              "      <td>Bewick's Wren</td>\n",
              "      <td>/content/drive/MyDrive/Colab Notebooks/birds/w...</td>\n",
              "      <td>[-144.72055, 81.81318, 9.465525, 40.918465, -1...</td>\n",
              "      <td>0</td>\n",
              "    </tr>\n",
              "  </tbody>\n",
              "</table>\n",
              "</div>\n",
              "    <div class=\"colab-df-buttons\">\n",
              "\n",
              "  <div class=\"colab-df-container\">\n",
              "    <button class=\"colab-df-convert\" onclick=\"convertToInteractive('df-5bd5b54e-7353-4551-ac01-9436a682ac9e')\"\n",
              "            title=\"Convert this dataframe to an interactive table.\"\n",
              "            style=\"display:none;\">\n",
              "\n",
              "  <svg xmlns=\"http://www.w3.org/2000/svg\" height=\"24px\" viewBox=\"0 -960 960 960\">\n",
              "    <path d=\"M120-120v-720h720v720H120Zm60-500h600v-160H180v160Zm220 220h160v-160H400v160Zm0 220h160v-160H400v160ZM180-400h160v-160H180v160Zm440 0h160v-160H620v160ZM180-180h160v-160H180v160Zm440 0h160v-160H620v160Z\"/>\n",
              "  </svg>\n",
              "    </button>\n",
              "\n",
              "  <style>\n",
              "    .colab-df-container {\n",
              "      display:flex;\n",
              "      gap: 12px;\n",
              "    }\n",
              "\n",
              "    .colab-df-convert {\n",
              "      background-color: #E8F0FE;\n",
              "      border: none;\n",
              "      border-radius: 50%;\n",
              "      cursor: pointer;\n",
              "      display: none;\n",
              "      fill: #1967D2;\n",
              "      height: 32px;\n",
              "      padding: 0 0 0 0;\n",
              "      width: 32px;\n",
              "    }\n",
              "\n",
              "    .colab-df-convert:hover {\n",
              "      background-color: #E2EBFA;\n",
              "      box-shadow: 0px 1px 2px rgba(60, 64, 67, 0.3), 0px 1px 3px 1px rgba(60, 64, 67, 0.15);\n",
              "      fill: #174EA6;\n",
              "    }\n",
              "\n",
              "    .colab-df-buttons div {\n",
              "      margin-bottom: 4px;\n",
              "    }\n",
              "\n",
              "    [theme=dark] .colab-df-convert {\n",
              "      background-color: #3B4455;\n",
              "      fill: #D2E3FC;\n",
              "    }\n",
              "\n",
              "    [theme=dark] .colab-df-convert:hover {\n",
              "      background-color: #434B5C;\n",
              "      box-shadow: 0px 1px 3px 1px rgba(0, 0, 0, 0.15);\n",
              "      filter: drop-shadow(0px 1px 2px rgba(0, 0, 0, 0.3));\n",
              "      fill: #FFFFFF;\n",
              "    }\n",
              "  </style>\n",
              "\n",
              "    <script>\n",
              "      const buttonEl =\n",
              "        document.querySelector('#df-5bd5b54e-7353-4551-ac01-9436a682ac9e button.colab-df-convert');\n",
              "      buttonEl.style.display =\n",
              "        google.colab.kernel.accessAllowed ? 'block' : 'none';\n",
              "\n",
              "      async function convertToInteractive(key) {\n",
              "        const element = document.querySelector('#df-5bd5b54e-7353-4551-ac01-9436a682ac9e');\n",
              "        const dataTable =\n",
              "          await google.colab.kernel.invokeFunction('convertToInteractive',\n",
              "                                                    [key], {});\n",
              "        if (!dataTable) return;\n",
              "\n",
              "        const docLinkHtml = 'Like what you see? Visit the ' +\n",
              "          '<a target=\"_blank\" href=https://colab.research.google.com/notebooks/data_table.ipynb>data table notebook</a>'\n",
              "          + ' to learn more about interactive tables.';\n",
              "        element.innerHTML = '';\n",
              "        dataTable['output_type'] = 'display_data';\n",
              "        await google.colab.output.renderOutput(dataTable, element);\n",
              "        const docLink = document.createElement('div');\n",
              "        docLink.innerHTML = docLinkHtml;\n",
              "        element.appendChild(docLink);\n",
              "      }\n",
              "    </script>\n",
              "  </div>\n",
              "\n",
              "\n",
              "<div id=\"df-b3e96e28-4f6f-4eca-9a63-4803482b1416\">\n",
              "  <button class=\"colab-df-quickchart\" onclick=\"quickchart('df-b3e96e28-4f6f-4eca-9a63-4803482b1416')\"\n",
              "            title=\"Suggest charts\"\n",
              "            style=\"display:none;\">\n",
              "\n",
              "<svg xmlns=\"http://www.w3.org/2000/svg\" height=\"24px\"viewBox=\"0 0 24 24\"\n",
              "     width=\"24px\">\n",
              "    <g>\n",
              "        <path d=\"M19 3H5c-1.1 0-2 .9-2 2v14c0 1.1.9 2 2 2h14c1.1 0 2-.9 2-2V5c0-1.1-.9-2-2-2zM9 17H7v-7h2v7zm4 0h-2V7h2v10zm4 0h-2v-4h2v4z\"/>\n",
              "    </g>\n",
              "</svg>\n",
              "  </button>\n",
              "\n",
              "<style>\n",
              "  .colab-df-quickchart {\n",
              "      --bg-color: #E8F0FE;\n",
              "      --fill-color: #1967D2;\n",
              "      --hover-bg-color: #E2EBFA;\n",
              "      --hover-fill-color: #174EA6;\n",
              "      --disabled-fill-color: #AAA;\n",
              "      --disabled-bg-color: #DDD;\n",
              "  }\n",
              "\n",
              "  [theme=dark] .colab-df-quickchart {\n",
              "      --bg-color: #3B4455;\n",
              "      --fill-color: #D2E3FC;\n",
              "      --hover-bg-color: #434B5C;\n",
              "      --hover-fill-color: #FFFFFF;\n",
              "      --disabled-bg-color: #3B4455;\n",
              "      --disabled-fill-color: #666;\n",
              "  }\n",
              "\n",
              "  .colab-df-quickchart {\n",
              "    background-color: var(--bg-color);\n",
              "    border: none;\n",
              "    border-radius: 50%;\n",
              "    cursor: pointer;\n",
              "    display: none;\n",
              "    fill: var(--fill-color);\n",
              "    height: 32px;\n",
              "    padding: 0;\n",
              "    width: 32px;\n",
              "  }\n",
              "\n",
              "  .colab-df-quickchart:hover {\n",
              "    background-color: var(--hover-bg-color);\n",
              "    box-shadow: 0 1px 2px rgba(60, 64, 67, 0.3), 0 1px 3px 1px rgba(60, 64, 67, 0.15);\n",
              "    fill: var(--button-hover-fill-color);\n",
              "  }\n",
              "\n",
              "  .colab-df-quickchart-complete:disabled,\n",
              "  .colab-df-quickchart-complete:disabled:hover {\n",
              "    background-color: var(--disabled-bg-color);\n",
              "    fill: var(--disabled-fill-color);\n",
              "    box-shadow: none;\n",
              "  }\n",
              "\n",
              "  .colab-df-spinner {\n",
              "    border: 2px solid var(--fill-color);\n",
              "    border-color: transparent;\n",
              "    border-bottom-color: var(--fill-color);\n",
              "    animation:\n",
              "      spin 1s steps(1) infinite;\n",
              "  }\n",
              "\n",
              "  @keyframes spin {\n",
              "    0% {\n",
              "      border-color: transparent;\n",
              "      border-bottom-color: var(--fill-color);\n",
              "      border-left-color: var(--fill-color);\n",
              "    }\n",
              "    20% {\n",
              "      border-color: transparent;\n",
              "      border-left-color: var(--fill-color);\n",
              "      border-top-color: var(--fill-color);\n",
              "    }\n",
              "    30% {\n",
              "      border-color: transparent;\n",
              "      border-left-color: var(--fill-color);\n",
              "      border-top-color: var(--fill-color);\n",
              "      border-right-color: var(--fill-color);\n",
              "    }\n",
              "    40% {\n",
              "      border-color: transparent;\n",
              "      border-right-color: var(--fill-color);\n",
              "      border-top-color: var(--fill-color);\n",
              "    }\n",
              "    60% {\n",
              "      border-color: transparent;\n",
              "      border-right-color: var(--fill-color);\n",
              "    }\n",
              "    80% {\n",
              "      border-color: transparent;\n",
              "      border-right-color: var(--fill-color);\n",
              "      border-bottom-color: var(--fill-color);\n",
              "    }\n",
              "    90% {\n",
              "      border-color: transparent;\n",
              "      border-bottom-color: var(--fill-color);\n",
              "    }\n",
              "  }\n",
              "</style>\n",
              "\n",
              "  <script>\n",
              "    async function quickchart(key) {\n",
              "      const quickchartButtonEl =\n",
              "        document.querySelector('#' + key + ' button');\n",
              "      quickchartButtonEl.disabled = true;  // To prevent multiple clicks.\n",
              "      quickchartButtonEl.classList.add('colab-df-spinner');\n",
              "      try {\n",
              "        const charts = await google.colab.kernel.invokeFunction(\n",
              "            'suggestCharts', [key], {});\n",
              "      } catch (error) {\n",
              "        console.error('Error during call to suggestCharts:', error);\n",
              "      }\n",
              "      quickchartButtonEl.classList.remove('colab-df-spinner');\n",
              "      quickchartButtonEl.classList.add('colab-df-quickchart-complete');\n",
              "    }\n",
              "    (() => {\n",
              "      let quickchartButtonEl =\n",
              "        document.querySelector('#df-b3e96e28-4f6f-4eca-9a63-4803482b1416 button');\n",
              "      quickchartButtonEl.style.display =\n",
              "        google.colab.kernel.accessAllowed ? 'block' : 'none';\n",
              "    })();\n",
              "  </script>\n",
              "</div>\n",
              "    </div>\n",
              "  </div>\n"
            ]
          },
          "metadata": {},
          "execution_count": 15
        }
      ],
      "source": [
        "df_train.head(10)"
      ]
    },
    {
      "cell_type": "code",
      "execution_count": null,
      "metadata": {
        "colab": {
          "base_uri": "https://localhost:8080/"
        },
        "id": "13PWeYSZZ-Ch",
        "outputId": "0a03af72-99fd-4dd0-a07e-c119ac463583"
      },
      "outputs": [
        {
          "output_type": "execute_result",
          "data": {
            "text/plain": [
              "(5422, 2)"
            ]
          },
          "metadata": {},
          "execution_count": 69
        }
      ],
      "source": [
        "extracted_features_df=pd.DataFrame(df_train,columns=['name','mel_spec'])\n",
        "extracted_features_df.head()\n",
        "extracted_features_df.shape"
      ]
    },
    {
      "cell_type": "code",
      "execution_count": null,
      "metadata": {
        "colab": {
          "base_uri": "https://localhost:8080/",
          "height": 206
        },
        "id": "jhgPfVZBw17g",
        "outputId": "ad734717-0433-42ab-ed51-870fbca70afe"
      },
      "outputs": [
        {
          "output_type": "execute_result",
          "data": {
            "text/plain": [
              "            name                                           mel_spec\n",
              "0  Bewick's Wren  [-132.85225, 81.1399, 17.018223, 54.974297, -1...\n",
              "1  Bewick's Wren  [-147.74393, 99.42544, 20.885643, 44.118813, 1...\n",
              "2  Bewick's Wren  [-92.42778, 84.10635, 17.362778, 53.86046, -8....\n",
              "3  Bewick's Wren  [-93.07557, 81.17431, 16.225544, 52.08842, -8....\n",
              "4  Bewick's Wren  [-107.95914, 92.416, 17.773256, 43.13245, -1.8..."
            ],
            "text/html": [
              "\n",
              "  <div id=\"df-ad8fab15-8434-4989-8481-bb7d2c7fc600\" class=\"colab-df-container\">\n",
              "    <div>\n",
              "<style scoped>\n",
              "    .dataframe tbody tr th:only-of-type {\n",
              "        vertical-align: middle;\n",
              "    }\n",
              "\n",
              "    .dataframe tbody tr th {\n",
              "        vertical-align: top;\n",
              "    }\n",
              "\n",
              "    .dataframe thead th {\n",
              "        text-align: right;\n",
              "    }\n",
              "</style>\n",
              "<table border=\"1\" class=\"dataframe\">\n",
              "  <thead>\n",
              "    <tr style=\"text-align: right;\">\n",
              "      <th></th>\n",
              "      <th>name</th>\n",
              "      <th>mel_spec</th>\n",
              "    </tr>\n",
              "  </thead>\n",
              "  <tbody>\n",
              "    <tr>\n",
              "      <th>0</th>\n",
              "      <td>Bewick's Wren</td>\n",
              "      <td>[-132.85225, 81.1399, 17.018223, 54.974297, -1...</td>\n",
              "    </tr>\n",
              "    <tr>\n",
              "      <th>1</th>\n",
              "      <td>Bewick's Wren</td>\n",
              "      <td>[-147.74393, 99.42544, 20.885643, 44.118813, 1...</td>\n",
              "    </tr>\n",
              "    <tr>\n",
              "      <th>2</th>\n",
              "      <td>Bewick's Wren</td>\n",
              "      <td>[-92.42778, 84.10635, 17.362778, 53.86046, -8....</td>\n",
              "    </tr>\n",
              "    <tr>\n",
              "      <th>3</th>\n",
              "      <td>Bewick's Wren</td>\n",
              "      <td>[-93.07557, 81.17431, 16.225544, 52.08842, -8....</td>\n",
              "    </tr>\n",
              "    <tr>\n",
              "      <th>4</th>\n",
              "      <td>Bewick's Wren</td>\n",
              "      <td>[-107.95914, 92.416, 17.773256, 43.13245, -1.8...</td>\n",
              "    </tr>\n",
              "  </tbody>\n",
              "</table>\n",
              "</div>\n",
              "    <div class=\"colab-df-buttons\">\n",
              "\n",
              "  <div class=\"colab-df-container\">\n",
              "    <button class=\"colab-df-convert\" onclick=\"convertToInteractive('df-ad8fab15-8434-4989-8481-bb7d2c7fc600')\"\n",
              "            title=\"Convert this dataframe to an interactive table.\"\n",
              "            style=\"display:none;\">\n",
              "\n",
              "  <svg xmlns=\"http://www.w3.org/2000/svg\" height=\"24px\" viewBox=\"0 -960 960 960\">\n",
              "    <path d=\"M120-120v-720h720v720H120Zm60-500h600v-160H180v160Zm220 220h160v-160H400v160Zm0 220h160v-160H400v160ZM180-400h160v-160H180v160Zm440 0h160v-160H620v160ZM180-180h160v-160H180v160Zm440 0h160v-160H620v160Z\"/>\n",
              "  </svg>\n",
              "    </button>\n",
              "\n",
              "  <style>\n",
              "    .colab-df-container {\n",
              "      display:flex;\n",
              "      gap: 12px;\n",
              "    }\n",
              "\n",
              "    .colab-df-convert {\n",
              "      background-color: #E8F0FE;\n",
              "      border: none;\n",
              "      border-radius: 50%;\n",
              "      cursor: pointer;\n",
              "      display: none;\n",
              "      fill: #1967D2;\n",
              "      height: 32px;\n",
              "      padding: 0 0 0 0;\n",
              "      width: 32px;\n",
              "    }\n",
              "\n",
              "    .colab-df-convert:hover {\n",
              "      background-color: #E2EBFA;\n",
              "      box-shadow: 0px 1px 2px rgba(60, 64, 67, 0.3), 0px 1px 3px 1px rgba(60, 64, 67, 0.15);\n",
              "      fill: #174EA6;\n",
              "    }\n",
              "\n",
              "    .colab-df-buttons div {\n",
              "      margin-bottom: 4px;\n",
              "    }\n",
              "\n",
              "    [theme=dark] .colab-df-convert {\n",
              "      background-color: #3B4455;\n",
              "      fill: #D2E3FC;\n",
              "    }\n",
              "\n",
              "    [theme=dark] .colab-df-convert:hover {\n",
              "      background-color: #434B5C;\n",
              "      box-shadow: 0px 1px 3px 1px rgba(0, 0, 0, 0.15);\n",
              "      filter: drop-shadow(0px 1px 2px rgba(0, 0, 0, 0.3));\n",
              "      fill: #FFFFFF;\n",
              "    }\n",
              "  </style>\n",
              "\n",
              "    <script>\n",
              "      const buttonEl =\n",
              "        document.querySelector('#df-ad8fab15-8434-4989-8481-bb7d2c7fc600 button.colab-df-convert');\n",
              "      buttonEl.style.display =\n",
              "        google.colab.kernel.accessAllowed ? 'block' : 'none';\n",
              "\n",
              "      async function convertToInteractive(key) {\n",
              "        const element = document.querySelector('#df-ad8fab15-8434-4989-8481-bb7d2c7fc600');\n",
              "        const dataTable =\n",
              "          await google.colab.kernel.invokeFunction('convertToInteractive',\n",
              "                                                    [key], {});\n",
              "        if (!dataTable) return;\n",
              "\n",
              "        const docLinkHtml = 'Like what you see? Visit the ' +\n",
              "          '<a target=\"_blank\" href=https://colab.research.google.com/notebooks/data_table.ipynb>data table notebook</a>'\n",
              "          + ' to learn more about interactive tables.';\n",
              "        element.innerHTML = '';\n",
              "        dataTable['output_type'] = 'display_data';\n",
              "        await google.colab.output.renderOutput(dataTable, element);\n",
              "        const docLink = document.createElement('div');\n",
              "        docLink.innerHTML = docLinkHtml;\n",
              "        element.appendChild(docLink);\n",
              "      }\n",
              "    </script>\n",
              "  </div>\n",
              "\n",
              "\n",
              "<div id=\"df-9f97e3bd-bb10-49bc-b4ed-14b132e575a8\">\n",
              "  <button class=\"colab-df-quickchart\" onclick=\"quickchart('df-9f97e3bd-bb10-49bc-b4ed-14b132e575a8')\"\n",
              "            title=\"Suggest charts\"\n",
              "            style=\"display:none;\">\n",
              "\n",
              "<svg xmlns=\"http://www.w3.org/2000/svg\" height=\"24px\"viewBox=\"0 0 24 24\"\n",
              "     width=\"24px\">\n",
              "    <g>\n",
              "        <path d=\"M19 3H5c-1.1 0-2 .9-2 2v14c0 1.1.9 2 2 2h14c1.1 0 2-.9 2-2V5c0-1.1-.9-2-2-2zM9 17H7v-7h2v7zm4 0h-2V7h2v10zm4 0h-2v-4h2v4z\"/>\n",
              "    </g>\n",
              "</svg>\n",
              "  </button>\n",
              "\n",
              "<style>\n",
              "  .colab-df-quickchart {\n",
              "      --bg-color: #E8F0FE;\n",
              "      --fill-color: #1967D2;\n",
              "      --hover-bg-color: #E2EBFA;\n",
              "      --hover-fill-color: #174EA6;\n",
              "      --disabled-fill-color: #AAA;\n",
              "      --disabled-bg-color: #DDD;\n",
              "  }\n",
              "\n",
              "  [theme=dark] .colab-df-quickchart {\n",
              "      --bg-color: #3B4455;\n",
              "      --fill-color: #D2E3FC;\n",
              "      --hover-bg-color: #434B5C;\n",
              "      --hover-fill-color: #FFFFFF;\n",
              "      --disabled-bg-color: #3B4455;\n",
              "      --disabled-fill-color: #666;\n",
              "  }\n",
              "\n",
              "  .colab-df-quickchart {\n",
              "    background-color: var(--bg-color);\n",
              "    border: none;\n",
              "    border-radius: 50%;\n",
              "    cursor: pointer;\n",
              "    display: none;\n",
              "    fill: var(--fill-color);\n",
              "    height: 32px;\n",
              "    padding: 0;\n",
              "    width: 32px;\n",
              "  }\n",
              "\n",
              "  .colab-df-quickchart:hover {\n",
              "    background-color: var(--hover-bg-color);\n",
              "    box-shadow: 0 1px 2px rgba(60, 64, 67, 0.3), 0 1px 3px 1px rgba(60, 64, 67, 0.15);\n",
              "    fill: var(--button-hover-fill-color);\n",
              "  }\n",
              "\n",
              "  .colab-df-quickchart-complete:disabled,\n",
              "  .colab-df-quickchart-complete:disabled:hover {\n",
              "    background-color: var(--disabled-bg-color);\n",
              "    fill: var(--disabled-fill-color);\n",
              "    box-shadow: none;\n",
              "  }\n",
              "\n",
              "  .colab-df-spinner {\n",
              "    border: 2px solid var(--fill-color);\n",
              "    border-color: transparent;\n",
              "    border-bottom-color: var(--fill-color);\n",
              "    animation:\n",
              "      spin 1s steps(1) infinite;\n",
              "  }\n",
              "\n",
              "  @keyframes spin {\n",
              "    0% {\n",
              "      border-color: transparent;\n",
              "      border-bottom-color: var(--fill-color);\n",
              "      border-left-color: var(--fill-color);\n",
              "    }\n",
              "    20% {\n",
              "      border-color: transparent;\n",
              "      border-left-color: var(--fill-color);\n",
              "      border-top-color: var(--fill-color);\n",
              "    }\n",
              "    30% {\n",
              "      border-color: transparent;\n",
              "      border-left-color: var(--fill-color);\n",
              "      border-top-color: var(--fill-color);\n",
              "      border-right-color: var(--fill-color);\n",
              "    }\n",
              "    40% {\n",
              "      border-color: transparent;\n",
              "      border-right-color: var(--fill-color);\n",
              "      border-top-color: var(--fill-color);\n",
              "    }\n",
              "    60% {\n",
              "      border-color: transparent;\n",
              "      border-right-color: var(--fill-color);\n",
              "    }\n",
              "    80% {\n",
              "      border-color: transparent;\n",
              "      border-right-color: var(--fill-color);\n",
              "      border-bottom-color: var(--fill-color);\n",
              "    }\n",
              "    90% {\n",
              "      border-color: transparent;\n",
              "      border-bottom-color: var(--fill-color);\n",
              "    }\n",
              "  }\n",
              "</style>\n",
              "\n",
              "  <script>\n",
              "    async function quickchart(key) {\n",
              "      const quickchartButtonEl =\n",
              "        document.querySelector('#' + key + ' button');\n",
              "      quickchartButtonEl.disabled = true;  // To prevent multiple clicks.\n",
              "      quickchartButtonEl.classList.add('colab-df-spinner');\n",
              "      try {\n",
              "        const charts = await google.colab.kernel.invokeFunction(\n",
              "            'suggestCharts', [key], {});\n",
              "      } catch (error) {\n",
              "        console.error('Error during call to suggestCharts:', error);\n",
              "      }\n",
              "      quickchartButtonEl.classList.remove('colab-df-spinner');\n",
              "      quickchartButtonEl.classList.add('colab-df-quickchart-complete');\n",
              "    }\n",
              "    (() => {\n",
              "      let quickchartButtonEl =\n",
              "        document.querySelector('#df-9f97e3bd-bb10-49bc-b4ed-14b132e575a8 button');\n",
              "      quickchartButtonEl.style.display =\n",
              "        google.colab.kernel.accessAllowed ? 'block' : 'none';\n",
              "    })();\n",
              "  </script>\n",
              "</div>\n",
              "    </div>\n",
              "  </div>\n"
            ]
          },
          "metadata": {},
          "execution_count": 70
        }
      ],
      "source": [
        "extracted_features_df.head()"
      ]
    },
    {
      "cell_type": "code",
      "execution_count": null,
      "metadata": {
        "colab": {
          "base_uri": "https://localhost:8080/"
        },
        "id": "9E3IsBH17vfN",
        "outputId": "38889c5e-171b-4b37-cd80-c43289bee1f1"
      },
      "outputs": [
        {
          "output_type": "execute_result",
          "data": {
            "text/plain": [
              "(5422, 2)"
            ]
          },
          "metadata": {},
          "execution_count": 71
        }
      ],
      "source": [
        "extracted_features_df.shape"
      ]
    },
    {
      "cell_type": "code",
      "execution_count": null,
      "metadata": {
        "id": "quHS1hsI7wBU"
      },
      "outputs": [],
      "source": [
        "X=np.array(extracted_features_df['mel_spec'].tolist())\n",
        "y=np.array(extracted_features_df['name'].tolist())"
      ]
    },
    {
      "cell_type": "code",
      "execution_count": null,
      "metadata": {
        "colab": {
          "base_uri": "https://localhost:8080/"
        },
        "id": "LahEzZj57yXu",
        "outputId": "7ce0eb5f-eef1-4a6e-fdf0-07626c835b86"
      },
      "outputs": [
        {
          "output_type": "execute_result",
          "data": {
            "text/plain": [
              "(5422, 40)"
            ]
          },
          "metadata": {},
          "execution_count": 73
        }
      ],
      "source": [
        "X.shape"
      ]
    },
    {
      "cell_type": "code",
      "execution_count": null,
      "metadata": {
        "colab": {
          "base_uri": "https://localhost:8080/"
        },
        "id": "NqgrDR7c70vp",
        "outputId": "db68d27d-2ca4-45a4-a7b8-e5b3c1befbdd"
      },
      "outputs": [
        {
          "output_type": "execute_result",
          "data": {
            "text/plain": [
              "(5422,)"
            ]
          },
          "metadata": {},
          "execution_count": 74
        }
      ],
      "source": [
        "y.shape"
      ]
    },
    {
      "cell_type": "code",
      "execution_count": null,
      "metadata": {
        "colab": {
          "base_uri": "https://localhost:8080/"
        },
        "id": "X8lS5TUQ73JZ",
        "outputId": "6db87527-206f-4d21-e9de-0a4ffa388a8a"
      },
      "outputs": [
        {
          "output_type": "execute_result",
          "data": {
            "text/plain": [
              "array([[-1.3285225e+02,  8.1139900e+01,  1.7018223e+01, ...,\n",
              "        -8.0229342e-01, -4.6149001e+00, -7.0749331e-01],\n",
              "       [-1.4774393e+02,  9.9425438e+01,  2.0885643e+01, ...,\n",
              "        -9.3192911e-01, -5.0233979e+00, -1.2252684e+00],\n",
              "       [-9.2427780e+01,  8.4106354e+01,  1.7362778e+01, ...,\n",
              "        -1.5095264e+00, -3.3417706e+00, -4.9797130e-01],\n",
              "       ...,\n",
              "       [-2.2850348e+02,  9.5049114e+00, -8.2236824e+01, ...,\n",
              "         1.6712842e+00,  1.7382443e-01,  1.2488134e+00],\n",
              "       [-2.2264116e+02,  1.3234480e+01, -7.7964081e+01, ...,\n",
              "        -1.4348578e+00,  1.0511127e+00,  2.7732670e+00],\n",
              "       [-2.5670840e+02,  3.9117985e+01, -7.0265968e+01, ...,\n",
              "        -2.0391259e+00,  9.7111009e-02,  2.6738038e+00]], dtype=float32)"
            ]
          },
          "metadata": {},
          "execution_count": 75
        }
      ],
      "source": [
        "X"
      ]
    },
    {
      "cell_type": "code",
      "execution_count": null,
      "metadata": {
        "colab": {
          "base_uri": "https://localhost:8080/"
        },
        "id": "gX4Y2_Ff9GPx",
        "outputId": "6217b912-f3e7-4ef2-b888-1997c6a191aa"
      },
      "outputs": [
        {
          "output_type": "execute_result",
          "data": {
            "text/plain": [
              "array([\"Bewick's Wren\", \"Bewick's Wren\", \"Bewick's Wren\", ...,\n",
              "       'Northern Cardinal', 'Northern Cardinal', 'Northern Cardinal'],\n",
              "      dtype='<U20')"
            ]
          },
          "metadata": {},
          "execution_count": 76
        }
      ],
      "source": [
        "y"
      ]
    },
    {
      "cell_type": "code",
      "execution_count": null,
      "metadata": {
        "id": "ohW3mc8s9Mju"
      },
      "outputs": [],
      "source": [
        "y=np.array(pd.get_dummies(y))\n"
      ]
    },
    {
      "cell_type": "code",
      "execution_count": null,
      "metadata": {
        "colab": {
          "base_uri": "https://localhost:8080/"
        },
        "id": "J7IgEy8T9iVy",
        "outputId": "0c48684b-e392-461a-9da4-3f98bdb02fae"
      },
      "outputs": [
        {
          "output_type": "execute_result",
          "data": {
            "text/plain": [
              "array([[0, 1, 0, 0, 0],\n",
              "       [0, 1, 0, 0, 0],\n",
              "       [0, 1, 0, 0, 0],\n",
              "       ...,\n",
              "       [0, 0, 1, 0, 0],\n",
              "       [0, 0, 1, 0, 0],\n",
              "       [0, 0, 1, 0, 0]], dtype=uint8)"
            ]
          },
          "metadata": {},
          "execution_count": 78
        }
      ],
      "source": [
        "y"
      ]
    },
    {
      "cell_type": "code",
      "execution_count": null,
      "metadata": {
        "id": "oyu8Zv3WaiBa"
      },
      "outputs": [],
      "source": [
        "from sklearn.model_selection import train_test_split\n",
        "X_train,X_test,y_train,y_test=train_test_split(X,y,test_size=0.2,random_state=0)"
      ]
    },
    {
      "cell_type": "code",
      "execution_count": null,
      "metadata": {
        "colab": {
          "base_uri": "https://localhost:8080/"
        },
        "id": "B4j7EFaualbL",
        "outputId": "5cc38a03-6e11-4f85-c785-937d25c7880f"
      },
      "outputs": [
        {
          "output_type": "execute_result",
          "data": {
            "text/plain": [
              "array([[-271.31616   ,  -26.419065  ,  -63.76474   , ...,    2.588676  ,\n",
              "          -3.9820173 ,    5.081394  ],\n",
              "       [-401.3699    ,  -31.111538  ,  -92.24524   , ...,   -2.9093552 ,\n",
              "          -0.48502737,    1.7998823 ],\n",
              "       [-366.7505    ,   -3.916123  , -118.17853   , ...,   -2.0479555 ,\n",
              "           1.2964002 ,    0.82310003],\n",
              "       ...,\n",
              "       [ -63.003605  ,   88.03719   ,  -30.778547  , ...,   -1.3984175 ,\n",
              "          -1.852705  ,   -1.1443155 ],\n",
              "       [-361.90756   ,   30.67692   ,  -64.73752   , ...,   -1.6385154 ,\n",
              "          -0.99096596,   -0.40422422],\n",
              "       [-168.7206    ,    1.3105384 ,  -65.46302   , ...,    2.268755  ,\n",
              "          -1.4256755 ,   -2.3499906 ]], dtype=float32)"
            ]
          },
          "metadata": {},
          "execution_count": 80
        }
      ],
      "source": [
        "X_train"
      ]
    },
    {
      "cell_type": "code",
      "execution_count": null,
      "metadata": {
        "colab": {
          "base_uri": "https://localhost:8080/"
        },
        "id": "WT432QaWaqWV",
        "outputId": "746fefe0-78f3-4efe-f862-9cebde802d04"
      },
      "outputs": [
        {
          "output_type": "execute_result",
          "data": {
            "text/plain": [
              "array([[0, 1, 0, 0, 0],\n",
              "       [0, 1, 0, 0, 0],\n",
              "       [0, 1, 0, 0, 0],\n",
              "       ...,\n",
              "       [0, 0, 1, 0, 0],\n",
              "       [0, 0, 1, 0, 0],\n",
              "       [0, 0, 1, 0, 0]], dtype=uint8)"
            ]
          },
          "metadata": {},
          "execution_count": 81
        }
      ],
      "source": [
        "y"
      ]
    },
    {
      "cell_type": "code",
      "execution_count": null,
      "metadata": {
        "colab": {
          "base_uri": "https://localhost:8080/"
        },
        "id": "57JzoOxYasvq",
        "outputId": "55a786f5-c65b-4f9f-8a2a-a54af556acfc"
      },
      "outputs": [
        {
          "output_type": "execute_result",
          "data": {
            "text/plain": [
              "(4337, 40)"
            ]
          },
          "metadata": {},
          "execution_count": 82
        }
      ],
      "source": [
        "X_train.shape"
      ]
    },
    {
      "cell_type": "code",
      "execution_count": null,
      "metadata": {
        "colab": {
          "base_uri": "https://localhost:8080/"
        },
        "id": "YuyWkGKVzkmd",
        "outputId": "937a0084-c32b-4641-eab6-2a6b008fbd79"
      },
      "outputs": [
        {
          "output_type": "execute_result",
          "data": {
            "text/plain": [
              "(1085, 40)"
            ]
          },
          "metadata": {},
          "execution_count": 83
        }
      ],
      "source": [
        "X_test.shape"
      ]
    },
    {
      "cell_type": "code",
      "execution_count": null,
      "metadata": {
        "colab": {
          "base_uri": "https://localhost:8080/"
        },
        "id": "mRtaz4fYf4Js",
        "outputId": "2da192e0-478b-4a4c-d8b7-ab5c47978753"
      },
      "outputs": [
        {
          "output_type": "execute_result",
          "data": {
            "text/plain": [
              "(4337, 5)"
            ]
          },
          "metadata": {},
          "execution_count": 84
        }
      ],
      "source": [
        "y_train.shape"
      ]
    },
    {
      "cell_type": "code",
      "execution_count": null,
      "metadata": {
        "colab": {
          "base_uri": "https://localhost:8080/"
        },
        "id": "W5PzNGDef78E",
        "outputId": "f15e76e6-6ce6-4137-deb0-fb62e24fe398"
      },
      "outputs": [
        {
          "output_type": "execute_result",
          "data": {
            "text/plain": [
              "(1085, 5)"
            ]
          },
          "metadata": {},
          "execution_count": 85
        }
      ],
      "source": [
        "y_test.shape"
      ]
    },
    {
      "cell_type": "code",
      "execution_count": null,
      "metadata": {
        "id": "qYVOYiMIf-XH"
      },
      "outputs": [],
      "source": [
        "from tensorflow.keras.models import Sequential\n",
        "from tensorflow.keras.layers import Dense,Dropout,Activation,Flatten\n",
        "from tensorflow.keras.optimizers import Adam\n",
        "from sklearn import metrics"
      ]
    },
    {
      "cell_type": "code",
      "execution_count": null,
      "metadata": {
        "id": "ACA7CtD8gHtA"
      },
      "outputs": [],
      "source": [
        "model=Sequential()\n",
        "###first layer\n",
        "model.add(Dense(100,input_shape=(40,)))\n",
        "model.add(Activation('relu'))\n",
        "model.add(Dropout(0.5))\n",
        "###second layer\n",
        "model.add(Dense(200))\n",
        "model.add(Activation('relu'))\n",
        "model.add(Dropout(0.5))\n",
        "###third layer\n",
        "model.add(Dense(100))\n",
        "model.add(Activation('relu'))\n",
        "model.add(Dropout(0.5))\n",
        "\n",
        "###final layer\n",
        "model.add(Dense(5))\n",
        "model.add(Activation('softmax'))"
      ]
    },
    {
      "cell_type": "code",
      "execution_count": null,
      "metadata": {
        "colab": {
          "base_uri": "https://localhost:8080/"
        },
        "id": "VALEZ8IZgP-O",
        "outputId": "a58088a8-0b08-4af4-e70f-eaa2d72a9531"
      },
      "outputs": [
        {
          "output_type": "stream",
          "name": "stdout",
          "text": [
            "Model: \"sequential_2\"\n",
            "_________________________________________________________________\n",
            " Layer (type)                Output Shape              Param #   \n",
            "=================================================================\n",
            " dense_8 (Dense)             (None, 100)               4100      \n",
            "                                                                 \n",
            " activation_8 (Activation)   (None, 100)               0         \n",
            "                                                                 \n",
            " dropout_6 (Dropout)         (None, 100)               0         \n",
            "                                                                 \n",
            " dense_9 (Dense)             (None, 200)               20200     \n",
            "                                                                 \n",
            " activation_9 (Activation)   (None, 200)               0         \n",
            "                                                                 \n",
            " dropout_7 (Dropout)         (None, 200)               0         \n",
            "                                                                 \n",
            " dense_10 (Dense)            (None, 100)               20100     \n",
            "                                                                 \n",
            " activation_10 (Activation)  (None, 100)               0         \n",
            "                                                                 \n",
            " dropout_8 (Dropout)         (None, 100)               0         \n",
            "                                                                 \n",
            " dense_11 (Dense)            (None, 5)                 505       \n",
            "                                                                 \n",
            " activation_11 (Activation)  (None, 5)                 0         \n",
            "                                                                 \n",
            "=================================================================\n",
            "Total params: 44905 (175.41 KB)\n",
            "Trainable params: 44905 (175.41 KB)\n",
            "Non-trainable params: 0 (0.00 Byte)\n",
            "_________________________________________________________________\n"
          ]
        }
      ],
      "source": [
        "model.summary()"
      ]
    },
    {
      "cell_type": "code",
      "execution_count": null,
      "metadata": {
        "id": "PLLKt3a0gIIU"
      },
      "outputs": [],
      "source": [
        "model.compile(loss='categorical_crossentropy',metrics=['accuracy'],optimizer='adam')"
      ]
    },
    {
      "cell_type": "code",
      "execution_count": null,
      "metadata": {
        "colab": {
          "base_uri": "https://localhost:8080/"
        },
        "id": "vYvQ4z3_gLj0",
        "outputId": "034e0c4e-4508-46a3-9841-54ad58517e92"
      },
      "outputs": [
        {
          "output_type": "stream",
          "name": "stdout",
          "text": [
            "Epoch 1/100\n",
            "128/136 [===========================>..] - ETA: 0s - loss: 13.0934 - accuracy: 0.2170\n",
            "Epoch 1: val_loss improved from inf to 1.58581, saving model to saved_models/audio_classification.hdf5\n",
            "136/136 [==============================] - 2s 7ms/step - loss: 12.6042 - accuracy: 0.2184 - val_loss: 1.5858 - val_accuracy: 0.2452\n",
            "Epoch 2/100\n",
            " 28/136 [=====>........................] - ETA: 0s - loss: 3.7152 - accuracy: 0.2254"
          ]
        },
        {
          "output_type": "stream",
          "name": "stderr",
          "text": [
            "/usr/local/lib/python3.10/dist-packages/keras/src/engine/training.py:3079: UserWarning: You are saving your model as an HDF5 file via `model.save()`. This file format is considered legacy. We recommend using instead the native Keras format, e.g. `model.save('my_model.keras')`.\n",
            "  saving_api.save_model(\n"
          ]
        },
        {
          "output_type": "stream",
          "name": "stdout",
          "text": [
            "126/136 [==========================>...] - ETA: 0s - loss: 2.7957 - accuracy: 0.2312\n",
            "Epoch 2: val_loss did not improve from 1.58581\n",
            "136/136 [==============================] - 1s 5ms/step - loss: 2.7441 - accuracy: 0.2326 - val_loss: 1.6083 - val_accuracy: 0.2184\n",
            "Epoch 3/100\n",
            "132/136 [============================>.] - ETA: 0s - loss: 1.8704 - accuracy: 0.2313\n",
            "Epoch 3: val_loss did not improve from 1.58581\n",
            "136/136 [==============================] - 0s 3ms/step - loss: 1.8681 - accuracy: 0.2303 - val_loss: 1.6054 - val_accuracy: 0.2258\n",
            "Epoch 4/100\n",
            "131/136 [===========================>..] - ETA: 0s - loss: 1.6778 - accuracy: 0.2462\n",
            "Epoch 4: val_loss did not improve from 1.58581\n",
            "136/136 [==============================] - 0s 3ms/step - loss: 1.6779 - accuracy: 0.2456 - val_loss: 1.6017 - val_accuracy: 0.2479\n",
            "Epoch 5/100\n",
            "121/136 [=========================>....] - ETA: 0s - loss: 1.6590 - accuracy: 0.2404\n",
            "Epoch 5: val_loss did not improve from 1.58581\n",
            "136/136 [==============================] - 0s 4ms/step - loss: 1.6519 - accuracy: 0.2444 - val_loss: 1.5980 - val_accuracy: 0.2802\n",
            "Epoch 6/100\n",
            "133/136 [============================>.] - ETA: 0s - loss: 1.6276 - accuracy: 0.2617\n",
            "Epoch 6: val_loss improved from 1.58581 to 1.58500, saving model to saved_models/audio_classification.hdf5\n",
            "136/136 [==============================] - 1s 4ms/step - loss: 1.6265 - accuracy: 0.2635 - val_loss: 1.5850 - val_accuracy: 0.3272\n",
            "Epoch 7/100\n",
            "123/136 [==========================>...] - ETA: 0s - loss: 1.5847 - accuracy: 0.2866\n",
            "Epoch 7: val_loss improved from 1.58500 to 1.54311, saving model to saved_models/audio_classification.hdf5\n",
            "136/136 [==============================] - 1s 4ms/step - loss: 1.5826 - accuracy: 0.2882 - val_loss: 1.5431 - val_accuracy: 0.3493\n",
            "Epoch 8/100\n",
            "135/136 [============================>.] - ETA: 0s - loss: 1.5547 - accuracy: 0.3002\n",
            "Epoch 8: val_loss improved from 1.54311 to 1.49232, saving model to saved_models/audio_classification.hdf5\n",
            "136/136 [==============================] - 1s 5ms/step - loss: 1.5550 - accuracy: 0.3000 - val_loss: 1.4923 - val_accuracy: 0.3493\n",
            "Epoch 9/100\n",
            "134/136 [============================>.] - ETA: 0s - loss: 1.5207 - accuracy: 0.3256\n",
            "Epoch 9: val_loss improved from 1.49232 to 1.42045, saving model to saved_models/audio_classification.hdf5\n",
            "136/136 [==============================] - 1s 4ms/step - loss: 1.5211 - accuracy: 0.3246 - val_loss: 1.4205 - val_accuracy: 0.3622\n",
            "Epoch 10/100\n",
            "130/136 [===========================>..] - ETA: 0s - loss: 1.4591 - accuracy: 0.3329\n",
            "Epoch 10: val_loss improved from 1.42045 to 1.29305, saving model to saved_models/audio_classification.hdf5\n",
            "136/136 [==============================] - 1s 4ms/step - loss: 1.4558 - accuracy: 0.3350 - val_loss: 1.2931 - val_accuracy: 0.3797\n",
            "Epoch 11/100\n",
            "127/136 [===========================>..] - ETA: 0s - loss: 1.4188 - accuracy: 0.3595\n",
            "Epoch 11: val_loss improved from 1.29305 to 1.26486, saving model to saved_models/audio_classification.hdf5\n",
            "136/136 [==============================] - 1s 4ms/step - loss: 1.4158 - accuracy: 0.3595 - val_loss: 1.2649 - val_accuracy: 0.3816\n",
            "Epoch 12/100\n",
            "134/136 [============================>.] - ETA: 0s - loss: 1.3758 - accuracy: 0.3587\n",
            "Epoch 12: val_loss improved from 1.26486 to 1.22535, saving model to saved_models/audio_classification.hdf5\n",
            "136/136 [==============================] - 1s 4ms/step - loss: 1.3760 - accuracy: 0.3590 - val_loss: 1.2254 - val_accuracy: 0.4212\n",
            "Epoch 13/100\n",
            "128/136 [===========================>..] - ETA: 0s - loss: 1.3614 - accuracy: 0.3701\n",
            "Epoch 13: val_loss improved from 1.22535 to 1.20932, saving model to saved_models/audio_classification.hdf5\n",
            "136/136 [==============================] - 0s 4ms/step - loss: 1.3597 - accuracy: 0.3708 - val_loss: 1.2093 - val_accuracy: 0.4230\n",
            "Epoch 14/100\n",
            "134/136 [============================>.] - ETA: 0s - loss: 1.3311 - accuracy: 0.3773\n",
            "Epoch 14: val_loss improved from 1.20932 to 1.19793, saving model to saved_models/audio_classification.hdf5\n",
            "136/136 [==============================] - 1s 4ms/step - loss: 1.3336 - accuracy: 0.3770 - val_loss: 1.1979 - val_accuracy: 0.4018\n",
            "Epoch 15/100\n",
            "126/136 [==========================>...] - ETA: 0s - loss: 1.3105 - accuracy: 0.3844\n",
            "Epoch 15: val_loss improved from 1.19793 to 1.15910, saving model to saved_models/audio_classification.hdf5\n",
            "136/136 [==============================] - 0s 4ms/step - loss: 1.3098 - accuracy: 0.3839 - val_loss: 1.1591 - val_accuracy: 0.4433\n",
            "Epoch 16/100\n",
            "134/136 [============================>.] - ETA: 0s - loss: 1.2829 - accuracy: 0.3960\n",
            "Epoch 16: val_loss improved from 1.15910 to 1.13544, saving model to saved_models/audio_classification.hdf5\n",
            "136/136 [==============================] - 1s 4ms/step - loss: 1.2832 - accuracy: 0.3959 - val_loss: 1.1354 - val_accuracy: 0.4599\n",
            "Epoch 17/100\n",
            "123/136 [==========================>...] - ETA: 0s - loss: 1.2673 - accuracy: 0.4035\n",
            "Epoch 17: val_loss improved from 1.13544 to 1.13514, saving model to saved_models/audio_classification.hdf5\n",
            "136/136 [==============================] - 1s 4ms/step - loss: 1.2696 - accuracy: 0.4035 - val_loss: 1.1351 - val_accuracy: 0.4654\n",
            "Epoch 18/100\n",
            "123/136 [==========================>...] - ETA: 0s - loss: 1.2351 - accuracy: 0.4187\n",
            "Epoch 18: val_loss improved from 1.13514 to 1.10959, saving model to saved_models/audio_classification.hdf5\n",
            "136/136 [==============================] - 1s 4ms/step - loss: 1.2328 - accuracy: 0.4217 - val_loss: 1.1096 - val_accuracy: 0.4940\n",
            "Epoch 19/100\n",
            "123/136 [==========================>...] - ETA: 0s - loss: 1.2322 - accuracy: 0.4278\n",
            "Epoch 19: val_loss improved from 1.10959 to 1.08706, saving model to saved_models/audio_classification.hdf5\n",
            "136/136 [==============================] - 1s 4ms/step - loss: 1.2295 - accuracy: 0.4266 - val_loss: 1.0871 - val_accuracy: 0.4857\n",
            "Epoch 20/100\n",
            "122/136 [=========================>....] - ETA: 0s - loss: 1.1969 - accuracy: 0.4380\n",
            "Epoch 20: val_loss improved from 1.08706 to 1.03375, saving model to saved_models/audio_classification.hdf5\n",
            "136/136 [==============================] - 1s 4ms/step - loss: 1.1905 - accuracy: 0.4466 - val_loss: 1.0337 - val_accuracy: 0.5152\n",
            "Epoch 21/100\n",
            "127/136 [===========================>..] - ETA: 0s - loss: 1.1936 - accuracy: 0.4451\n",
            "Epoch 21: val_loss improved from 1.03375 to 1.03175, saving model to saved_models/audio_classification.hdf5\n",
            "136/136 [==============================] - 1s 4ms/step - loss: 1.1904 - accuracy: 0.4492 - val_loss: 1.0317 - val_accuracy: 0.5327\n",
            "Epoch 22/100\n",
            "129/136 [===========================>..] - ETA: 0s - loss: 1.1519 - accuracy: 0.4654\n",
            "Epoch 22: val_loss improved from 1.03175 to 0.99379, saving model to saved_models/audio_classification.hdf5\n",
            "136/136 [==============================] - 1s 6ms/step - loss: 1.1549 - accuracy: 0.4646 - val_loss: 0.9938 - val_accuracy: 0.5502\n",
            "Epoch 23/100\n",
            "126/136 [==========================>...] - ETA: 0s - loss: 1.1623 - accuracy: 0.4695\n",
            "Epoch 23: val_loss improved from 0.99379 to 0.98643, saving model to saved_models/audio_classification.hdf5\n",
            "136/136 [==============================] - 1s 7ms/step - loss: 1.1617 - accuracy: 0.4692 - val_loss: 0.9864 - val_accuracy: 0.5475\n",
            "Epoch 24/100\n",
            "136/136 [==============================] - ETA: 0s - loss: 1.1115 - accuracy: 0.4831\n",
            "Epoch 24: val_loss improved from 0.98643 to 0.95957, saving model to saved_models/audio_classification.hdf5\n",
            "136/136 [==============================] - 1s 6ms/step - loss: 1.1115 - accuracy: 0.4831 - val_loss: 0.9596 - val_accuracy: 0.5152\n",
            "Epoch 25/100\n",
            "136/136 [==============================] - ETA: 0s - loss: 1.1046 - accuracy: 0.4884\n",
            "Epoch 25: val_loss improved from 0.95957 to 0.93623, saving model to saved_models/audio_classification.hdf5\n",
            "136/136 [==============================] - 1s 6ms/step - loss: 1.1046 - accuracy: 0.4884 - val_loss: 0.9362 - val_accuracy: 0.5705\n",
            "Epoch 26/100\n",
            "134/136 [============================>.] - ETA: 0s - loss: 1.0920 - accuracy: 0.4935\n",
            "Epoch 26: val_loss did not improve from 0.93623\n",
            "136/136 [==============================] - 1s 5ms/step - loss: 1.0950 - accuracy: 0.4925 - val_loss: 0.9543 - val_accuracy: 0.5668\n",
            "Epoch 27/100\n",
            "125/136 [==========================>...] - ETA: 0s - loss: 1.0874 - accuracy: 0.5035\n",
            "Epoch 27: val_loss improved from 0.93623 to 0.92210, saving model to saved_models/audio_classification.hdf5\n",
            "136/136 [==============================] - 1s 6ms/step - loss: 1.0889 - accuracy: 0.5054 - val_loss: 0.9221 - val_accuracy: 0.5244\n",
            "Epoch 28/100\n",
            "136/136 [==============================] - ETA: 0s - loss: 1.0634 - accuracy: 0.4960\n",
            "Epoch 28: val_loss improved from 0.92210 to 0.91341, saving model to saved_models/audio_classification.hdf5\n",
            "136/136 [==============================] - 1s 6ms/step - loss: 1.0634 - accuracy: 0.4960 - val_loss: 0.9134 - val_accuracy: 0.5862\n",
            "Epoch 29/100\n",
            "134/136 [============================>.] - ETA: 0s - loss: 1.0591 - accuracy: 0.5156\n",
            "Epoch 29: val_loss improved from 0.91341 to 0.91078, saving model to saved_models/audio_classification.hdf5\n",
            "136/136 [==============================] - 1s 6ms/step - loss: 1.0564 - accuracy: 0.5167 - val_loss: 0.9108 - val_accuracy: 0.5613\n",
            "Epoch 30/100\n",
            "125/136 [==========================>...] - ETA: 0s - loss: 1.0275 - accuracy: 0.5197\n",
            "Epoch 30: val_loss improved from 0.91078 to 0.89261, saving model to saved_models/audio_classification.hdf5\n",
            "136/136 [==============================] - 1s 6ms/step - loss: 1.0308 - accuracy: 0.5163 - val_loss: 0.8926 - val_accuracy: 0.5871\n",
            "Epoch 31/100\n",
            "128/136 [===========================>..] - ETA: 0s - loss: 1.0363 - accuracy: 0.5217\n",
            "Epoch 31: val_loss improved from 0.89261 to 0.86702, saving model to saved_models/audio_classification.hdf5\n",
            "136/136 [==============================] - 0s 4ms/step - loss: 1.0352 - accuracy: 0.5227 - val_loss: 0.8670 - val_accuracy: 0.5963\n",
            "Epoch 32/100\n",
            "135/136 [============================>.] - ETA: 0s - loss: 1.0338 - accuracy: 0.5403\n",
            "Epoch 32: val_loss did not improve from 0.86702\n",
            "136/136 [==============================] - 1s 4ms/step - loss: 1.0343 - accuracy: 0.5400 - val_loss: 0.8764 - val_accuracy: 0.5834\n",
            "Epoch 33/100\n",
            "135/136 [============================>.] - ETA: 0s - loss: 1.0181 - accuracy: 0.5389\n",
            "Epoch 33: val_loss improved from 0.86702 to 0.85911, saving model to saved_models/audio_classification.hdf5\n",
            "136/136 [==============================] - 0s 3ms/step - loss: 1.0189 - accuracy: 0.5386 - val_loss: 0.8591 - val_accuracy: 0.5972\n",
            "Epoch 34/100\n",
            "123/136 [==========================>...] - ETA: 0s - loss: 1.0084 - accuracy: 0.5335\n",
            "Epoch 34: val_loss improved from 0.85911 to 0.85168, saving model to saved_models/audio_classification.hdf5\n",
            "136/136 [==============================] - 1s 4ms/step - loss: 1.0029 - accuracy: 0.5347 - val_loss: 0.8517 - val_accuracy: 0.6276\n",
            "Epoch 35/100\n",
            "125/136 [==========================>...] - ETA: 0s - loss: 0.9743 - accuracy: 0.5590\n",
            "Epoch 35: val_loss improved from 0.85168 to 0.83255, saving model to saved_models/audio_classification.hdf5\n",
            "136/136 [==============================] - 1s 4ms/step - loss: 0.9812 - accuracy: 0.5589 - val_loss: 0.8325 - val_accuracy: 0.6212\n",
            "Epoch 36/100\n",
            "122/136 [=========================>....] - ETA: 0s - loss: 0.9749 - accuracy: 0.5579\n",
            "Epoch 36: val_loss did not improve from 0.83255\n",
            "136/136 [==============================] - 0s 4ms/step - loss: 0.9815 - accuracy: 0.5589 - val_loss: 0.8358 - val_accuracy: 0.6479\n",
            "Epoch 37/100\n",
            "129/136 [===========================>..] - ETA: 0s - loss: 0.9566 - accuracy: 0.5577\n",
            "Epoch 37: val_loss did not improve from 0.83255\n",
            "136/136 [==============================] - 0s 3ms/step - loss: 0.9607 - accuracy: 0.5557 - val_loss: 0.8380 - val_accuracy: 0.5954\n",
            "Epoch 38/100\n",
            "126/136 [==========================>...] - ETA: 0s - loss: 0.9449 - accuracy: 0.5811\n",
            "Epoch 38: val_loss improved from 0.83255 to 0.79727, saving model to saved_models/audio_classification.hdf5\n",
            "136/136 [==============================] - 1s 4ms/step - loss: 0.9452 - accuracy: 0.5817 - val_loss: 0.7973 - val_accuracy: 0.6700\n",
            "Epoch 39/100\n",
            "133/136 [============================>.] - ETA: 0s - loss: 0.9391 - accuracy: 0.5794\n",
            "Epoch 39: val_loss improved from 0.79727 to 0.79401, saving model to saved_models/audio_classification.hdf5\n",
            "136/136 [==============================] - 1s 4ms/step - loss: 0.9386 - accuracy: 0.5787 - val_loss: 0.7940 - val_accuracy: 0.6636\n",
            "Epoch 40/100\n",
            "122/136 [=========================>....] - ETA: 0s - loss: 0.9401 - accuracy: 0.5771\n",
            "Epoch 40: val_loss improved from 0.79401 to 0.79053, saving model to saved_models/audio_classification.hdf5\n",
            "136/136 [==============================] - 1s 4ms/step - loss: 0.9408 - accuracy: 0.5769 - val_loss: 0.7905 - val_accuracy: 0.6387\n",
            "Epoch 41/100\n",
            "123/136 [==========================>...] - ETA: 0s - loss: 0.9299 - accuracy: 0.5897\n",
            "Epoch 41: val_loss improved from 0.79053 to 0.78371, saving model to saved_models/audio_classification.hdf5\n",
            "136/136 [==============================] - 1s 4ms/step - loss: 0.9367 - accuracy: 0.5889 - val_loss: 0.7837 - val_accuracy: 0.6959\n",
            "Epoch 42/100\n",
            "124/136 [==========================>...] - ETA: 0s - loss: 0.9173 - accuracy: 0.5940\n",
            "Epoch 42: val_loss improved from 0.78371 to 0.77622, saving model to saved_models/audio_classification.hdf5\n",
            "136/136 [==============================] - 1s 4ms/step - loss: 0.9215 - accuracy: 0.5907 - val_loss: 0.7762 - val_accuracy: 0.7014\n",
            "Epoch 43/100\n",
            "132/136 [============================>.] - ETA: 0s - loss: 0.9126 - accuracy: 0.5966\n",
            "Epoch 43: val_loss improved from 0.77622 to 0.77461, saving model to saved_models/audio_classification.hdf5\n",
            "136/136 [==============================] - 0s 4ms/step - loss: 0.9094 - accuracy: 0.5995 - val_loss: 0.7746 - val_accuracy: 0.6922\n",
            "Epoch 44/100\n",
            "133/136 [============================>.] - ETA: 0s - loss: 0.8989 - accuracy: 0.6114\n",
            "Epoch 44: val_loss improved from 0.77461 to 0.73692, saving model to saved_models/audio_classification.hdf5\n",
            "136/136 [==============================] - 1s 4ms/step - loss: 0.8984 - accuracy: 0.6117 - val_loss: 0.7369 - val_accuracy: 0.7097\n",
            "Epoch 45/100\n",
            "121/136 [=========================>....] - ETA: 0s - loss: 0.8943 - accuracy: 0.6077\n",
            "Epoch 45: val_loss improved from 0.73692 to 0.73475, saving model to saved_models/audio_classification.hdf5\n",
            "136/136 [==============================] - 1s 4ms/step - loss: 0.8946 - accuracy: 0.6087 - val_loss: 0.7347 - val_accuracy: 0.7281\n",
            "Epoch 46/100\n",
            "124/136 [==========================>...] - ETA: 0s - loss: 0.8712 - accuracy: 0.6240\n",
            "Epoch 46: val_loss improved from 0.73475 to 0.73444, saving model to saved_models/audio_classification.hdf5\n",
            "136/136 [==============================] - 1s 4ms/step - loss: 0.8765 - accuracy: 0.6251 - val_loss: 0.7344 - val_accuracy: 0.7115\n",
            "Epoch 47/100\n",
            "121/136 [=========================>....] - ETA: 0s - loss: 0.8721 - accuracy: 0.6142\n",
            "Epoch 47: val_loss improved from 0.73444 to 0.73373, saving model to saved_models/audio_classification.hdf5\n",
            "136/136 [==============================] - 1s 4ms/step - loss: 0.8756 - accuracy: 0.6131 - val_loss: 0.7337 - val_accuracy: 0.7373\n",
            "Epoch 48/100\n",
            "124/136 [==========================>...] - ETA: 0s - loss: 0.8564 - accuracy: 0.6361\n",
            "Epoch 48: val_loss improved from 0.73373 to 0.72112, saving model to saved_models/audio_classification.hdf5\n",
            "136/136 [==============================] - 1s 4ms/step - loss: 0.8596 - accuracy: 0.6348 - val_loss: 0.7211 - val_accuracy: 0.7207\n",
            "Epoch 49/100\n",
            "119/136 [=========================>....] - ETA: 0s - loss: 0.8656 - accuracy: 0.6261\n",
            "Epoch 49: val_loss improved from 0.72112 to 0.71778, saving model to saved_models/audio_classification.hdf5\n",
            "136/136 [==============================] - 1s 4ms/step - loss: 0.8630 - accuracy: 0.6299 - val_loss: 0.7178 - val_accuracy: 0.7300\n",
            "Epoch 50/100\n",
            "135/136 [============================>.] - ETA: 0s - loss: 0.8415 - accuracy: 0.6500\n",
            "Epoch 50: val_loss improved from 0.71778 to 0.70077, saving model to saved_models/audio_classification.hdf5\n",
            "136/136 [==============================] - 1s 6ms/step - loss: 0.8457 - accuracy: 0.6493 - val_loss: 0.7008 - val_accuracy: 0.7272\n",
            "Epoch 51/100\n",
            "128/136 [===========================>..] - ETA: 0s - loss: 0.8552 - accuracy: 0.6362\n",
            "Epoch 51: val_loss did not improve from 0.70077\n",
            "136/136 [==============================] - 1s 6ms/step - loss: 0.8528 - accuracy: 0.6375 - val_loss: 0.7309 - val_accuracy: 0.7161\n",
            "Epoch 52/100\n",
            "135/136 [============================>.] - ETA: 0s - loss: 0.8356 - accuracy: 0.6412\n",
            "Epoch 52: val_loss improved from 0.70077 to 0.67267, saving model to saved_models/audio_classification.hdf5\n",
            "136/136 [==============================] - 1s 6ms/step - loss: 0.8358 - accuracy: 0.6412 - val_loss: 0.6727 - val_accuracy: 0.7475\n",
            "Epoch 53/100\n",
            "127/136 [===========================>..] - ETA: 0s - loss: 0.8119 - accuracy: 0.6631\n",
            "Epoch 53: val_loss did not improve from 0.67267\n",
            "136/136 [==============================] - 1s 5ms/step - loss: 0.8154 - accuracy: 0.6627 - val_loss: 0.6734 - val_accuracy: 0.7318\n",
            "Epoch 54/100\n",
            "135/136 [============================>.] - ETA: 0s - loss: 0.8232 - accuracy: 0.6502\n",
            "Epoch 54: val_loss did not improve from 0.67267\n",
            "136/136 [==============================] - 1s 5ms/step - loss: 0.8227 - accuracy: 0.6509 - val_loss: 0.6761 - val_accuracy: 0.7558\n",
            "Epoch 55/100\n",
            "134/136 [============================>.] - ETA: 0s - loss: 0.8066 - accuracy: 0.6639\n",
            "Epoch 55: val_loss improved from 0.67267 to 0.67113, saving model to saved_models/audio_classification.hdf5\n",
            "136/136 [==============================] - 1s 6ms/step - loss: 0.8064 - accuracy: 0.6638 - val_loss: 0.6711 - val_accuracy: 0.7484\n",
            "Epoch 56/100\n",
            "130/136 [===========================>..] - ETA: 0s - loss: 0.8434 - accuracy: 0.6562\n",
            "Epoch 56: val_loss did not improve from 0.67113\n",
            "136/136 [==============================] - 1s 6ms/step - loss: 0.8410 - accuracy: 0.6555 - val_loss: 0.6716 - val_accuracy: 0.7493\n",
            "Epoch 57/100\n",
            "128/136 [===========================>..] - ETA: 0s - loss: 0.8134 - accuracy: 0.6584\n",
            "Epoch 57: val_loss improved from 0.67113 to 0.65893, saving model to saved_models/audio_classification.hdf5\n",
            "136/136 [==============================] - 1s 6ms/step - loss: 0.8152 - accuracy: 0.6583 - val_loss: 0.6589 - val_accuracy: 0.7650\n",
            "Epoch 58/100\n",
            "128/136 [===========================>..] - ETA: 0s - loss: 0.7859 - accuracy: 0.6655\n",
            "Epoch 58: val_loss improved from 0.65893 to 0.62652, saving model to saved_models/audio_classification.hdf5\n",
            "136/136 [==============================] - 1s 6ms/step - loss: 0.7835 - accuracy: 0.6641 - val_loss: 0.6265 - val_accuracy: 0.7576\n",
            "Epoch 59/100\n",
            "133/136 [============================>.] - ETA: 0s - loss: 0.7725 - accuracy: 0.6715\n",
            "Epoch 59: val_loss improved from 0.62652 to 0.61881, saving model to saved_models/audio_classification.hdf5\n",
            "136/136 [==============================] - 1s 6ms/step - loss: 0.7736 - accuracy: 0.6712 - val_loss: 0.6188 - val_accuracy: 0.7668\n",
            "Epoch 60/100\n",
            "124/136 [==========================>...] - ETA: 0s - loss: 0.8107 - accuracy: 0.6694\n",
            "Epoch 60: val_loss did not improve from 0.61881\n",
            "136/136 [==============================] - 0s 3ms/step - loss: 0.8014 - accuracy: 0.6714 - val_loss: 0.6217 - val_accuracy: 0.7816\n",
            "Epoch 61/100\n",
            "123/136 [==========================>...] - ETA: 0s - loss: 0.7843 - accuracy: 0.6712\n",
            "Epoch 61: val_loss did not improve from 0.61881\n",
            "136/136 [==============================] - 0s 4ms/step - loss: 0.7759 - accuracy: 0.6733 - val_loss: 0.6222 - val_accuracy: 0.7705\n",
            "Epoch 62/100\n",
            "118/136 [=========================>....] - ETA: 0s - loss: 0.7652 - accuracy: 0.6859\n",
            "Epoch 62: val_loss improved from 0.61881 to 0.61400, saving model to saved_models/audio_classification.hdf5\n",
            "136/136 [==============================] - 1s 4ms/step - loss: 0.7599 - accuracy: 0.6864 - val_loss: 0.6140 - val_accuracy: 0.7853\n",
            "Epoch 63/100\n",
            "129/136 [===========================>..] - ETA: 0s - loss: 0.7809 - accuracy: 0.6880\n",
            "Epoch 63: val_loss did not improve from 0.61400\n",
            "136/136 [==============================] - 1s 4ms/step - loss: 0.7767 - accuracy: 0.6885 - val_loss: 0.6244 - val_accuracy: 0.7779\n",
            "Epoch 64/100\n",
            "136/136 [==============================] - ETA: 0s - loss: 0.7577 - accuracy: 0.6938\n",
            "Epoch 64: val_loss improved from 0.61400 to 0.60345, saving model to saved_models/audio_classification.hdf5\n",
            "136/136 [==============================] - 1s 4ms/step - loss: 0.7577 - accuracy: 0.6938 - val_loss: 0.6034 - val_accuracy: 0.7871\n",
            "Epoch 65/100\n",
            "136/136 [==============================] - ETA: 0s - loss: 0.7387 - accuracy: 0.7014\n",
            "Epoch 65: val_loss improved from 0.60345 to 0.58931, saving model to saved_models/audio_classification.hdf5\n",
            "136/136 [==============================] - 1s 4ms/step - loss: 0.7387 - accuracy: 0.7014 - val_loss: 0.5893 - val_accuracy: 0.7926\n",
            "Epoch 66/100\n",
            "124/136 [==========================>...] - ETA: 0s - loss: 0.7265 - accuracy: 0.7059\n",
            "Epoch 66: val_loss improved from 0.58931 to 0.57577, saving model to saved_models/audio_classification.hdf5\n",
            "136/136 [==============================] - 1s 4ms/step - loss: 0.7251 - accuracy: 0.7079 - val_loss: 0.5758 - val_accuracy: 0.8009\n",
            "Epoch 67/100\n",
            "132/136 [============================>.] - ETA: 0s - loss: 0.7488 - accuracy: 0.6877\n",
            "Epoch 67: val_loss did not improve from 0.57577\n",
            "136/136 [==============================] - 1s 4ms/step - loss: 0.7493 - accuracy: 0.6878 - val_loss: 0.6012 - val_accuracy: 0.7816\n",
            "Epoch 68/100\n",
            "132/136 [============================>.] - ETA: 0s - loss: 0.7470 - accuracy: 0.6984\n",
            "Epoch 68: val_loss did not improve from 0.57577\n",
            "136/136 [==============================] - 1s 4ms/step - loss: 0.7443 - accuracy: 0.6991 - val_loss: 0.5908 - val_accuracy: 0.7751\n",
            "Epoch 69/100\n",
            "124/136 [==========================>...] - ETA: 0s - loss: 0.7237 - accuracy: 0.7039\n",
            "Epoch 69: val_loss did not improve from 0.57577\n",
            "136/136 [==============================] - 1s 4ms/step - loss: 0.7216 - accuracy: 0.7035 - val_loss: 0.5838 - val_accuracy: 0.7871\n",
            "Epoch 70/100\n",
            "126/136 [==========================>...] - ETA: 0s - loss: 0.7347 - accuracy: 0.7054\n",
            "Epoch 70: val_loss did not improve from 0.57577\n",
            "136/136 [==============================] - 0s 3ms/step - loss: 0.7310 - accuracy: 0.7039 - val_loss: 0.5815 - val_accuracy: 0.7945\n",
            "Epoch 71/100\n",
            "121/136 [=========================>....] - ETA: 0s - loss: 0.7258 - accuracy: 0.7110\n",
            "Epoch 71: val_loss did not improve from 0.57577\n",
            "136/136 [==============================] - 0s 4ms/step - loss: 0.7281 - accuracy: 0.7079 - val_loss: 0.5907 - val_accuracy: 0.8120\n",
            "Epoch 72/100\n",
            "123/136 [==========================>...] - ETA: 0s - loss: 0.7181 - accuracy: 0.7152\n",
            "Epoch 72: val_loss improved from 0.57577 to 0.57251, saving model to saved_models/audio_classification.hdf5\n",
            "136/136 [==============================] - 1s 4ms/step - loss: 0.7180 - accuracy: 0.7157 - val_loss: 0.5725 - val_accuracy: 0.8157\n",
            "Epoch 73/100\n",
            "124/136 [==========================>...] - ETA: 0s - loss: 0.6890 - accuracy: 0.7180\n",
            "Epoch 73: val_loss improved from 0.57251 to 0.56835, saving model to saved_models/audio_classification.hdf5\n",
            "136/136 [==============================] - 1s 4ms/step - loss: 0.6816 - accuracy: 0.7226 - val_loss: 0.5683 - val_accuracy: 0.7982\n",
            "Epoch 74/100\n",
            "136/136 [==============================] - ETA: 0s - loss: 0.6985 - accuracy: 0.7238\n",
            "Epoch 74: val_loss improved from 0.56835 to 0.54623, saving model to saved_models/audio_classification.hdf5\n",
            "136/136 [==============================] - 1s 4ms/step - loss: 0.6985 - accuracy: 0.7238 - val_loss: 0.5462 - val_accuracy: 0.8147\n",
            "Epoch 75/100\n",
            "122/136 [=========================>....] - ETA: 0s - loss: 0.7220 - accuracy: 0.7057\n",
            "Epoch 75: val_loss did not improve from 0.54623\n",
            "136/136 [==============================] - 0s 4ms/step - loss: 0.7169 - accuracy: 0.7086 - val_loss: 0.5566 - val_accuracy: 0.8212\n",
            "Epoch 76/100\n",
            "129/136 [===========================>..] - ETA: 0s - loss: 0.6808 - accuracy: 0.7197\n",
            "Epoch 76: val_loss improved from 0.54623 to 0.53664, saving model to saved_models/audio_classification.hdf5\n",
            "136/136 [==============================] - 0s 4ms/step - loss: 0.6873 - accuracy: 0.7166 - val_loss: 0.5366 - val_accuracy: 0.8194\n",
            "Epoch 77/100\n",
            "121/136 [=========================>....] - ETA: 0s - loss: 0.6999 - accuracy: 0.7213\n",
            "Epoch 77: val_loss did not improve from 0.53664\n",
            "136/136 [==============================] - 0s 4ms/step - loss: 0.7024 - accuracy: 0.7182 - val_loss: 0.5838 - val_accuracy: 0.7945\n",
            "Epoch 78/100\n",
            "128/136 [===========================>..] - ETA: 0s - loss: 0.6899 - accuracy: 0.7244\n",
            "Epoch 78: val_loss did not improve from 0.53664\n",
            "136/136 [==============================] - 0s 3ms/step - loss: 0.6906 - accuracy: 0.7242 - val_loss: 0.5509 - val_accuracy: 0.8046\n",
            "Epoch 79/100\n",
            "131/136 [===========================>..] - ETA: 0s - loss: 0.6897 - accuracy: 0.7214\n",
            "Epoch 79: val_loss did not improve from 0.53664\n",
            "136/136 [==============================] - 1s 5ms/step - loss: 0.6914 - accuracy: 0.7196 - val_loss: 0.5471 - val_accuracy: 0.8092\n",
            "Epoch 80/100\n",
            "130/136 [===========================>..] - ETA: 0s - loss: 0.6758 - accuracy: 0.7209\n",
            "Epoch 80: val_loss did not improve from 0.53664\n",
            "136/136 [==============================] - 1s 6ms/step - loss: 0.6725 - accuracy: 0.7208 - val_loss: 0.5454 - val_accuracy: 0.7880\n",
            "Epoch 81/100\n",
            "125/136 [==========================>...] - ETA: 0s - loss: 0.6837 - accuracy: 0.7210\n",
            "Epoch 81: val_loss improved from 0.53664 to 0.53298, saving model to saved_models/audio_classification.hdf5\n",
            "136/136 [==============================] - 1s 5ms/step - loss: 0.6822 - accuracy: 0.7215 - val_loss: 0.5330 - val_accuracy: 0.8175\n",
            "Epoch 82/100\n",
            "133/136 [============================>.] - ETA: 0s - loss: 0.6701 - accuracy: 0.7383\n",
            "Epoch 82: val_loss improved from 0.53298 to 0.52467, saving model to saved_models/audio_classification.hdf5\n",
            "136/136 [==============================] - 1s 6ms/step - loss: 0.6762 - accuracy: 0.7351 - val_loss: 0.5247 - val_accuracy: 0.8295\n",
            "Epoch 83/100\n",
            "124/136 [==========================>...] - ETA: 0s - loss: 0.6770 - accuracy: 0.7364\n",
            "Epoch 83: val_loss did not improve from 0.52467\n",
            "136/136 [==============================] - 1s 6ms/step - loss: 0.6782 - accuracy: 0.7367 - val_loss: 0.5389 - val_accuracy: 0.8147\n",
            "Epoch 84/100\n",
            "125/136 [==========================>...] - ETA: 0s - loss: 0.6673 - accuracy: 0.7362\n",
            "Epoch 84: val_loss improved from 0.52467 to 0.52339, saving model to saved_models/audio_classification.hdf5\n",
            "136/136 [==============================] - 1s 5ms/step - loss: 0.6700 - accuracy: 0.7330 - val_loss: 0.5234 - val_accuracy: 0.8230\n",
            "Epoch 85/100\n",
            "127/136 [===========================>..] - ETA: 0s - loss: 0.6614 - accuracy: 0.7384\n",
            "Epoch 85: val_loss improved from 0.52339 to 0.52074, saving model to saved_models/audio_classification.hdf5\n",
            "136/136 [==============================] - 1s 5ms/step - loss: 0.6590 - accuracy: 0.7401 - val_loss: 0.5207 - val_accuracy: 0.8212\n",
            "Epoch 86/100\n",
            "129/136 [===========================>..] - ETA: 0s - loss: 0.6549 - accuracy: 0.7350\n",
            "Epoch 86: val_loss improved from 0.52074 to 0.48274, saving model to saved_models/audio_classification.hdf5\n",
            "136/136 [==============================] - 1s 6ms/step - loss: 0.6597 - accuracy: 0.7351 - val_loss: 0.4827 - val_accuracy: 0.8378\n",
            "Epoch 87/100\n",
            "131/136 [===========================>..] - ETA: 0s - loss: 0.6590 - accuracy: 0.7405\n",
            "Epoch 87: val_loss did not improve from 0.48274\n",
            "136/136 [==============================] - 1s 6ms/step - loss: 0.6618 - accuracy: 0.7385 - val_loss: 0.4983 - val_accuracy: 0.8369\n",
            "Epoch 88/100\n",
            "125/136 [==========================>...] - ETA: 0s - loss: 0.6442 - accuracy: 0.7402\n",
            "Epoch 88: val_loss did not improve from 0.48274\n",
            "136/136 [==============================] - 1s 5ms/step - loss: 0.6417 - accuracy: 0.7420 - val_loss: 0.5013 - val_accuracy: 0.8341\n",
            "Epoch 89/100\n",
            "126/136 [==========================>...] - ETA: 0s - loss: 0.6638 - accuracy: 0.7354\n",
            "Epoch 89: val_loss did not improve from 0.48274\n",
            "136/136 [==============================] - 1s 5ms/step - loss: 0.6619 - accuracy: 0.7383 - val_loss: 0.5056 - val_accuracy: 0.8295\n",
            "Epoch 90/100\n",
            "121/136 [=========================>....] - ETA: 0s - loss: 0.6444 - accuracy: 0.7472\n",
            "Epoch 90: val_loss did not improve from 0.48274\n",
            "136/136 [==============================] - 0s 3ms/step - loss: 0.6430 - accuracy: 0.7478 - val_loss: 0.5039 - val_accuracy: 0.8350\n",
            "Epoch 91/100\n",
            "122/136 [=========================>....] - ETA: 0s - loss: 0.6468 - accuracy: 0.7387\n",
            "Epoch 91: val_loss improved from 0.48274 to 0.47655, saving model to saved_models/audio_classification.hdf5\n",
            "136/136 [==============================] - 1s 4ms/step - loss: 0.6484 - accuracy: 0.7388 - val_loss: 0.4765 - val_accuracy: 0.8470\n",
            "Epoch 92/100\n",
            "120/136 [=========================>....] - ETA: 0s - loss: 0.6460 - accuracy: 0.7432\n",
            "Epoch 92: val_loss did not improve from 0.47655\n",
            "136/136 [==============================] - 1s 4ms/step - loss: 0.6523 - accuracy: 0.7436 - val_loss: 0.5263 - val_accuracy: 0.8323\n",
            "Epoch 93/100\n",
            "119/136 [=========================>....] - ETA: 0s - loss: 0.6568 - accuracy: 0.7455\n",
            "Epoch 93: val_loss did not improve from 0.47655\n",
            "136/136 [==============================] - 0s 4ms/step - loss: 0.6559 - accuracy: 0.7422 - val_loss: 0.5059 - val_accuracy: 0.8267\n",
            "Epoch 94/100\n",
            "129/136 [===========================>..] - ETA: 0s - loss: 0.6572 - accuracy: 0.7384\n",
            "Epoch 94: val_loss did not improve from 0.47655\n",
            "136/136 [==============================] - 0s 3ms/step - loss: 0.6606 - accuracy: 0.7381 - val_loss: 0.5071 - val_accuracy: 0.8203\n",
            "Epoch 95/100\n",
            "124/136 [==========================>...] - ETA: 0s - loss: 0.6469 - accuracy: 0.7429\n",
            "Epoch 95: val_loss did not improve from 0.47655\n",
            "136/136 [==============================] - 0s 4ms/step - loss: 0.6444 - accuracy: 0.7445 - val_loss: 0.4896 - val_accuracy: 0.8313\n",
            "Epoch 96/100\n",
            "123/136 [==========================>...] - ETA: 0s - loss: 0.6223 - accuracy: 0.7597\n",
            "Epoch 96: val_loss did not improve from 0.47655\n",
            "136/136 [==============================] - 0s 4ms/step - loss: 0.6242 - accuracy: 0.7567 - val_loss: 0.4812 - val_accuracy: 0.8286\n",
            "Epoch 97/100\n",
            "132/136 [============================>.] - ETA: 0s - loss: 0.6453 - accuracy: 0.7509\n",
            "Epoch 97: val_loss improved from 0.47655 to 0.47572, saving model to saved_models/audio_classification.hdf5\n",
            "136/136 [==============================] - 1s 4ms/step - loss: 0.6423 - accuracy: 0.7524 - val_loss: 0.4757 - val_accuracy: 0.8498\n",
            "Epoch 98/100\n",
            "127/136 [===========================>..] - ETA: 0s - loss: 0.6288 - accuracy: 0.7512\n",
            "Epoch 98: val_loss improved from 0.47572 to 0.45533, saving model to saved_models/audio_classification.hdf5\n",
            "136/136 [==============================] - 1s 4ms/step - loss: 0.6204 - accuracy: 0.7565 - val_loss: 0.4553 - val_accuracy: 0.8507\n",
            "Epoch 99/100\n",
            "121/136 [=========================>....] - ETA: 0s - loss: 0.6211 - accuracy: 0.7590\n",
            "Epoch 99: val_loss did not improve from 0.45533\n",
            "136/136 [==============================] - 0s 4ms/step - loss: 0.6222 - accuracy: 0.7572 - val_loss: 0.4637 - val_accuracy: 0.8461\n",
            "Epoch 100/100\n",
            "125/136 [==========================>...] - ETA: 0s - loss: 0.6140 - accuracy: 0.7477\n",
            "Epoch 100: val_loss did not improve from 0.45533\n",
            "136/136 [==============================] - 0s 3ms/step - loss: 0.6115 - accuracy: 0.7514 - val_loss: 0.4690 - val_accuracy: 0.8424\n",
            "Training completed in time:  0:01:01.870375\n"
          ]
        }
      ],
      "source": [
        "from tensorflow.keras.callbacks import ModelCheckpoint\n",
        "from datetime import datetime\n",
        "import pickle\n",
        "import librosa\n",
        "import numpy as np\n",
        "num_epochs = 100\n",
        "num_batch_size = 32\n",
        "\n",
        "checkpointer = ModelCheckpoint(filepath='saved_models/audio_classification.hdf5',\n",
        "                               verbose=1, save_best_only=True)\n",
        "start = datetime.now()\n",
        "\n",
        "model.fit(X_train, y_train, batch_size=num_batch_size, epochs=num_epochs, validation_data=(X_test, y_test), callbacks=[checkpointer], verbose=1)\n",
        "pickle.dump(model, open('ann_model.pkl', 'wb'))\n",
        "duration = datetime.now() - start\n",
        "print(\"Training completed in time: \", duration)"
      ]
    },
    {
      "cell_type": "code",
      "execution_count": null,
      "metadata": {
        "colab": {
          "base_uri": "https://localhost:8080/"
        },
        "id": "bMmDd7tir88l",
        "outputId": "3b310040-2564-4471-f24b-a1bfe1d9757d"
      },
      "outputs": [
        {
          "output_type": "stream",
          "name": "stdout",
          "text": [
            "0.8423963189125061\n"
          ]
        }
      ],
      "source": [
        "test_accuracy=model.evaluate(X_test,y_test,verbose=0)\n",
        "print(test_accuracy[1])"
      ]
    },
    {
      "cell_type": "code",
      "source": [
        "X_test[1]"
      ],
      "metadata": {
        "colab": {
          "base_uri": "https://localhost:8080/"
        },
        "id": "nOgZTaf3LFBp",
        "outputId": "3ac46e8d-3c69-4ac5-89d8-9767ebaa429a"
      },
      "execution_count": null,
      "outputs": [
        {
          "output_type": "execute_result",
          "data": {
            "text/plain": [
              "array([-189.45573  ,   62.150654 ,   19.43638  ,   55.768246 ,\n",
              "         22.014147 ,    1.1670706,   10.744263 ,   25.974312 ,\n",
              "          4.4643216,    7.8037286,    9.627176 ,   13.46692  ,\n",
              "          0.99146  ,    5.4443765,    1.2118229,    5.956566 ,\n",
              "         -3.0814357,    2.580064 ,   -1.0993098,    3.641694 ,\n",
              "         -4.4661713,    0.746521 ,   -1.9080472,    1.6144162,\n",
              "         -4.795732 ,    0.726896 ,   -2.5761786,    3.1347125,\n",
              "         -2.5605633,    1.7595351,   -1.1499922,    3.5236385,\n",
              "         -2.869519 ,    3.5089357,   -0.5358302,    0.9323693,\n",
              "         -1.6913214,    4.6088724,   -0.9242106,    1.7950323],\n",
              "      dtype=float32)"
            ]
          },
          "metadata": {},
          "execution_count": 92
        }
      ]
    },
    {
      "cell_type": "code",
      "source": [
        "model.predict(X_test)"
      ],
      "metadata": {
        "colab": {
          "base_uri": "https://localhost:8080/"
        },
        "id": "8iDxA-ypMJIm",
        "outputId": "bd757565-63be-4543-f03b-4b4f302accbd"
      },
      "execution_count": null,
      "outputs": [
        {
          "output_type": "stream",
          "name": "stdout",
          "text": [
            "34/34 [==============================] - 0s 2ms/step\n"
          ]
        },
        {
          "output_type": "execute_result",
          "data": {
            "text/plain": [
              "array([[8.6615910e-04, 7.3971685e-05, 8.0850762e-01, 1.9034834e-01,\n",
              "        2.0397746e-04],\n",
              "       [4.8949134e-01, 1.1811443e-02, 9.7458977e-03, 4.6361491e-01,\n",
              "        2.5336262e-02],\n",
              "       [7.4310005e-01, 1.4305592e-06, 1.2101286e-05, 2.5687850e-01,\n",
              "        7.7560799e-06],\n",
              "       ...,\n",
              "       [8.1533723e-02, 2.1897180e-01, 1.6694063e-01, 8.4189855e-02,\n",
              "        4.4836399e-01],\n",
              "       [8.4789932e-01, 6.1732905e-08, 1.2110538e-06, 1.5209857e-01,\n",
              "        7.9798201e-07],\n",
              "       [9.0458440e-03, 2.9593803e-02, 8.2552242e-01, 9.8437525e-02,\n",
              "        3.7400372e-02]], dtype=float32)"
            ]
          },
          "metadata": {},
          "execution_count": 93
        }
      ]
    },
    {
      "cell_type": "code",
      "source": [
        "from datetime import datetime\n",
        "import pickle\n",
        "import librosa\n",
        "import numpy as np\n",
        "start = datetime.now()\n",
        "# Load the trained ANN model from a file\n",
        "model = pickle.load(open('ann_model.pkl', 'rb'))\n",
        "filename=\"/content/drive/MyDrive/Colab Notebooks/birds/wavfiles/557838-4.wav\"\n",
        "\n",
        "audio, sample_rate = librosa.load(filename, res_type='kaiser_fast')\n",
        "\n",
        "# Extract MFCC features from the audio\n",
        "mfccs_features = librosa.feature.mfcc(y=audio, sr=sample_rate, n_mfcc=40)\n",
        "mfccs_scaled_features = np.mean(mfccs_features.T, axis=0)\n",
        "\n",
        "# Reshape the features into a 1D array\n",
        "mfccs_scaled_features = mfccs_scaled_features.reshape(1, -1)\n",
        "\n",
        "# Make a prediction on the bird sound\n",
        "y_pred = model.predict(mfccs_scaled_features)\n",
        "\n",
        "# Get the predicted class label\n",
        "predicted_class = np.argmax(y_pred)\n",
        "\n",
        "# Print the predicted class label\n",
        "print('Predicted class:', predicted_class)\n",
        "duration = datetime.now() - start\n",
        "print(\"Training completed in time: \", duration)"
      ],
      "metadata": {
        "colab": {
          "base_uri": "https://localhost:8080/"
        },
        "id": "orIXeM_WIMb-",
        "outputId": "dae277e0-f044-492b-b4bb-6552438897fe"
      },
      "execution_count": null,
      "outputs": [
        {
          "output_type": "stream",
          "name": "stderr",
          "text": [
            "WARNING:tensorflow:5 out of the last 38 calls to <function Model.make_predict_function.<locals>.predict_function at 0x7f28ead156c0> triggered tf.function retracing. Tracing is expensive and the excessive number of tracings could be due to (1) creating @tf.function repeatedly in a loop, (2) passing tensors with different shapes, (3) passing Python objects instead of tensors. For (1), please define your @tf.function outside of the loop. For (2), @tf.function has reduce_retracing=True option that can avoid unnecessary retracing. For (3), please refer to https://www.tensorflow.org/guide/function#controlling_retracing and https://www.tensorflow.org/api_docs/python/tf/function for  more details.\n"
          ]
        },
        {
          "output_type": "stream",
          "name": "stdout",
          "text": [
            "1/1 [==============================] - 0s 87ms/step\n",
            "Predicted class: 1\n",
            "Training completed in time:  0:00:00.313020\n"
          ]
        }
      ]
    },
    {
      "cell_type": "code",
      "source": [],
      "metadata": {
        "id": "VWsMUPXXO8u3"
      },
      "execution_count": null,
      "outputs": []
    },
    {
      "cell_type": "code",
      "source": [],
      "metadata": {
        "id": "IxQN4zk8N0Y1"
      },
      "execution_count": null,
      "outputs": []
    },
    {
      "cell_type": "markdown",
      "metadata": {
        "id": "kogFwK02YntA"
      },
      "source": [
        "ACCURACY = 83%"
      ]
    }
  ],
  "metadata": {
    "colab": {
      "provenance": []
    },
    "kernelspec": {
      "display_name": "Python 3",
      "name": "python3"
    },
    "language_info": {
      "name": "python"
    }
  },
  "nbformat": 4,
  "nbformat_minor": 0
}